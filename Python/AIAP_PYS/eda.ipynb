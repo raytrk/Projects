{
 "cells": [
  {
   "cell_type": "markdown",
   "metadata": {},
   "source": [
    "### This project aims to predict students' O level math scores based on certain baseline characteristics\n",
    "#### Dataset obtained from AIAP SG PYS: https://github.com/aisingapore/AIAP-Technical-Assessment-Past-Years-Series\n",
    "\n",
    "We will first clean the data, then do simple exploratory analysis before running a linear regression model and a random forest model to predict test scores."
   ]
  },
  {
   "cell_type": "markdown",
   "metadata": {},
   "source": [
    "### Description of attributes in the table:\n",
    "\n",
    "|Attribute | Description |\n",
    "| --- | --- |\n",
    "|student_id | Unique ID for each student|\n",
    "|number_of_siblings | Number of siblings|\n",
    "|direct_admission |Mode of entering the school|\n",
    "|CCA |Enrolled CCA|\n",
    "|learning_style |Primary learning style|\n",
    "|tuition |Indication of whether the student has a tuition|\n",
    "|final_test |Student’s O-level mathematics examination score|\n",
    "|n_male |Number of male classmates|\n",
    "|n_female| Number of female classmates|\n",
    "|gender |Gender type|\n",
    "|age |Age of the student|\n",
    "|hours_per_week |Number of hours student studies per week|\n",
    "|attendance_rate |Attendance rate of the student (%)|\n",
    "|sleep_time |Daily sleeping time (hour:minutes)|\n",
    "|wake_time |Daily waking up time (hour:minutes)|\n",
    "|mode_of_transport |Mode of transport to school|\n",
    "|bag_color |Colour of student’s bag|"
   ]
  },
  {
   "cell_type": "markdown",
   "metadata": {},
   "source": [
    "I postulate that the following variables will have a positive correlation with the O level math test scores:\n",
    "1. Duration of sleep\n",
    "2. Number of hours student studies per week\n",
    "3. Attendance rate of the student\n",
    "4. If the student has tuition\n",
    "5. Male gender\n",
    "\n",
    "I postulate that the following variables will have a negative correlation with the O level math test scores:\n",
    "1. If the student is from a sports CCA\n",
    "2. If the patient is from a direct_admission (i.e. not by grades but by other skills like sports)\n",
    "3. Number of siblings\n",
    "4. Number of classmates of the opposite gender\n",
    "\n",
    "I postulate that the following variables will have no impact on O level math test scores:\n",
    "1. Student's bag colour\n",
    "2. Learning style\n",
    "3. Mode of transport to school"
   ]
  },
  {
   "cell_type": "code",
   "execution_count": 356,
   "metadata": {},
   "outputs": [],
   "source": [
    "#Access database\n",
    "\n",
    "import sqlite3, pandas as pd, numpy as np\n",
    "import seaborn as sns\n",
    "import matplotlib.pyplot as plt\n",
    "\n",
    "#from Ipython.display import display\n",
    "\n",
    "#db_file = r\"data\\score.db\"\n",
    "db_file = r\"score.db\"\n",
    "conn = None\n",
    "try:\n",
    "    conn = sqlite3.connect(db_file)\n",
    "except sqlite3.Error as e:\n",
    "    print(e)"
   ]
  },
  {
   "cell_type": "code",
   "execution_count": 357,
   "metadata": {},
   "outputs": [
    {
     "data": {
      "text/html": [
       "<div>\n",
       "<style scoped>\n",
       "    .dataframe tbody tr th:only-of-type {\n",
       "        vertical-align: middle;\n",
       "    }\n",
       "\n",
       "    .dataframe tbody tr th {\n",
       "        vertical-align: top;\n",
       "    }\n",
       "\n",
       "    .dataframe thead th {\n",
       "        text-align: right;\n",
       "    }\n",
       "</style>\n",
       "<table border=\"1\" class=\"dataframe\">\n",
       "  <thead>\n",
       "    <tr style=\"text-align: right;\">\n",
       "      <th></th>\n",
       "      <th>name</th>\n",
       "    </tr>\n",
       "  </thead>\n",
       "  <tbody>\n",
       "    <tr>\n",
       "      <th>0</th>\n",
       "      <td>score</td>\n",
       "    </tr>\n",
       "  </tbody>\n",
       "</table>\n",
       "</div>"
      ],
      "text/plain": [
       "    name\n",
       "0  score"
      ]
     },
     "execution_count": 357,
     "metadata": {},
     "output_type": "execute_result"
    }
   ],
   "source": [
    "#Find the Table Names in the database\n",
    "query = '''\n",
    "    SELECT name FROM sqlite_master WHERE type='table' ORDER BY name\n",
    "    '''\n",
    "tables = pd.read_sql_query(query, conn)\n",
    "tables"
   ]
  },
  {
   "cell_type": "code",
   "execution_count": 358,
   "metadata": {},
   "outputs": [],
   "source": [
    "#Load the score table into a DataFrame\n",
    "\n",
    "query = '''\n",
    "    SELECT * FROM score\n",
    "    '''\n",
    "df = pd.read_sql_query(query, conn)"
   ]
  },
  {
   "cell_type": "code",
   "execution_count": 359,
   "metadata": {},
   "outputs": [
    {
     "data": {
      "text/plain": [
       "(15900, 18)"
      ]
     },
     "execution_count": 359,
     "metadata": {},
     "output_type": "execute_result"
    }
   ],
   "source": [
    "df.shape"
   ]
  },
  {
   "cell_type": "markdown",
   "metadata": {},
   "source": [
    "There are 18 observations and 18 variables in the score table"
   ]
  },
  {
   "cell_type": "code",
   "execution_count": 360,
   "metadata": {},
   "outputs": [
    {
     "data": {
      "text/html": [
       "<div>\n",
       "<style scoped>\n",
       "    .dataframe tbody tr th:only-of-type {\n",
       "        vertical-align: middle;\n",
       "    }\n",
       "\n",
       "    .dataframe tbody tr th {\n",
       "        vertical-align: top;\n",
       "    }\n",
       "\n",
       "    .dataframe thead th {\n",
       "        text-align: right;\n",
       "    }\n",
       "</style>\n",
       "<table border=\"1\" class=\"dataframe\">\n",
       "  <thead>\n",
       "    <tr style=\"text-align: right;\">\n",
       "      <th></th>\n",
       "      <th>index</th>\n",
       "      <th>number_of_siblings</th>\n",
       "      <th>direct_admission</th>\n",
       "      <th>CCA</th>\n",
       "      <th>learning_style</th>\n",
       "      <th>student_id</th>\n",
       "      <th>gender</th>\n",
       "      <th>tuition</th>\n",
       "      <th>final_test</th>\n",
       "      <th>n_male</th>\n",
       "      <th>n_female</th>\n",
       "      <th>age</th>\n",
       "      <th>hours_per_week</th>\n",
       "      <th>attendance_rate</th>\n",
       "      <th>sleep_time</th>\n",
       "      <th>wake_time</th>\n",
       "      <th>mode_of_transport</th>\n",
       "      <th>bag_color</th>\n",
       "    </tr>\n",
       "  </thead>\n",
       "  <tbody>\n",
       "    <tr>\n",
       "      <th>0</th>\n",
       "      <td>0</td>\n",
       "      <td>0</td>\n",
       "      <td>Yes</td>\n",
       "      <td>Sports</td>\n",
       "      <td>Visual</td>\n",
       "      <td>ACN2BE</td>\n",
       "      <td>Female</td>\n",
       "      <td>No</td>\n",
       "      <td>69.0</td>\n",
       "      <td>14.0</td>\n",
       "      <td>2.0</td>\n",
       "      <td>16.0</td>\n",
       "      <td>10.0</td>\n",
       "      <td>91.0</td>\n",
       "      <td>22:00</td>\n",
       "      <td>6:00</td>\n",
       "      <td>private transport</td>\n",
       "      <td>yellow</td>\n",
       "    </tr>\n",
       "    <tr>\n",
       "      <th>1</th>\n",
       "      <td>1</td>\n",
       "      <td>2</td>\n",
       "      <td>No</td>\n",
       "      <td>Sports</td>\n",
       "      <td>Auditory</td>\n",
       "      <td>FGXIIZ</td>\n",
       "      <td>Female</td>\n",
       "      <td>No</td>\n",
       "      <td>47.0</td>\n",
       "      <td>4.0</td>\n",
       "      <td>19.0</td>\n",
       "      <td>16.0</td>\n",
       "      <td>7.0</td>\n",
       "      <td>94.0</td>\n",
       "      <td>22:30</td>\n",
       "      <td>6:30</td>\n",
       "      <td>private transport</td>\n",
       "      <td>green</td>\n",
       "    </tr>\n",
       "    <tr>\n",
       "      <th>2</th>\n",
       "      <td>2</td>\n",
       "      <td>0</td>\n",
       "      <td>Yes</td>\n",
       "      <td>None</td>\n",
       "      <td>Visual</td>\n",
       "      <td>B9AI9F</td>\n",
       "      <td>Male</td>\n",
       "      <td>No</td>\n",
       "      <td>85.0</td>\n",
       "      <td>14.0</td>\n",
       "      <td>2.0</td>\n",
       "      <td>15.0</td>\n",
       "      <td>8.0</td>\n",
       "      <td>92.0</td>\n",
       "      <td>22:30</td>\n",
       "      <td>6:30</td>\n",
       "      <td>private transport</td>\n",
       "      <td>white</td>\n",
       "    </tr>\n",
       "    <tr>\n",
       "      <th>3</th>\n",
       "      <td>3</td>\n",
       "      <td>1</td>\n",
       "      <td>No</td>\n",
       "      <td>Clubs</td>\n",
       "      <td>Auditory</td>\n",
       "      <td>FEVM1T</td>\n",
       "      <td>Female</td>\n",
       "      <td>Yes</td>\n",
       "      <td>64.0</td>\n",
       "      <td>2.0</td>\n",
       "      <td>20.0</td>\n",
       "      <td>15.0</td>\n",
       "      <td>18.0</td>\n",
       "      <td>NaN</td>\n",
       "      <td>21:00</td>\n",
       "      <td>5:00</td>\n",
       "      <td>public transport</td>\n",
       "      <td>yellow</td>\n",
       "    </tr>\n",
       "    <tr>\n",
       "      <th>4</th>\n",
       "      <td>4</td>\n",
       "      <td>0</td>\n",
       "      <td>No</td>\n",
       "      <td>Sports</td>\n",
       "      <td>Auditory</td>\n",
       "      <td>AXZN2E</td>\n",
       "      <td>Male</td>\n",
       "      <td>No</td>\n",
       "      <td>66.0</td>\n",
       "      <td>24.0</td>\n",
       "      <td>3.0</td>\n",
       "      <td>16.0</td>\n",
       "      <td>7.0</td>\n",
       "      <td>95.0</td>\n",
       "      <td>21:30</td>\n",
       "      <td>5:30</td>\n",
       "      <td>public transport</td>\n",
       "      <td>yellow</td>\n",
       "    </tr>\n",
       "  </tbody>\n",
       "</table>\n",
       "</div>"
      ],
      "text/plain": [
       "   index  number_of_siblings direct_admission     CCA learning_style  \\\n",
       "0      0                   0              Yes  Sports         Visual   \n",
       "1      1                   2               No  Sports       Auditory   \n",
       "2      2                   0              Yes    None         Visual   \n",
       "3      3                   1               No   Clubs       Auditory   \n",
       "4      4                   0               No  Sports       Auditory   \n",
       "\n",
       "  student_id  gender tuition  final_test  n_male  n_female   age  \\\n",
       "0     ACN2BE  Female      No        69.0    14.0       2.0  16.0   \n",
       "1     FGXIIZ  Female      No        47.0     4.0      19.0  16.0   \n",
       "2     B9AI9F    Male      No        85.0    14.0       2.0  15.0   \n",
       "3     FEVM1T  Female     Yes        64.0     2.0      20.0  15.0   \n",
       "4     AXZN2E    Male      No        66.0    24.0       3.0  16.0   \n",
       "\n",
       "   hours_per_week  attendance_rate sleep_time wake_time  mode_of_transport  \\\n",
       "0            10.0             91.0      22:00      6:00  private transport   \n",
       "1             7.0             94.0      22:30      6:30  private transport   \n",
       "2             8.0             92.0      22:30      6:30  private transport   \n",
       "3            18.0              NaN      21:00      5:00   public transport   \n",
       "4             7.0             95.0      21:30      5:30   public transport   \n",
       "\n",
       "  bag_color  \n",
       "0    yellow  \n",
       "1     green  \n",
       "2     white  \n",
       "3    yellow  \n",
       "4    yellow  "
      ]
     },
     "execution_count": 360,
     "metadata": {},
     "output_type": "execute_result"
    }
   ],
   "source": [
    "#Explore the score table\n",
    "df.head()"
   ]
  },
  {
   "cell_type": "markdown",
   "metadata": {},
   "source": [
    "Noted that there is an index column, without which, there are 16 independent variables and 1 dependent variable (final_test)\n",
    "\n",
    "Let's drop the index column"
   ]
  },
  {
   "cell_type": "code",
   "execution_count": 361,
   "metadata": {},
   "outputs": [],
   "source": [
    "df.drop(columns = 'index', inplace = True)"
   ]
  },
  {
   "cell_type": "code",
   "execution_count": 362,
   "metadata": {},
   "outputs": [
    {
     "name": "stdout",
     "output_type": "stream",
     "text": [
      "<class 'pandas.core.frame.DataFrame'>\n",
      "RangeIndex: 15900 entries, 0 to 15899\n",
      "Data columns (total 17 columns):\n",
      " #   Column              Non-Null Count  Dtype  \n",
      "---  ------              --------------  -----  \n",
      " 0   number_of_siblings  15900 non-null  int64  \n",
      " 1   direct_admission    15900 non-null  object \n",
      " 2   CCA                 15900 non-null  object \n",
      " 3   learning_style      15900 non-null  object \n",
      " 4   student_id          15900 non-null  object \n",
      " 5   gender              15900 non-null  object \n",
      " 6   tuition             15900 non-null  object \n",
      " 7   final_test          15405 non-null  float64\n",
      " 8   n_male              15900 non-null  float64\n",
      " 9   n_female            15900 non-null  float64\n",
      " 10  age                 15900 non-null  float64\n",
      " 11  hours_per_week      15900 non-null  float64\n",
      " 12  attendance_rate     15122 non-null  float64\n",
      " 13  sleep_time          15900 non-null  object \n",
      " 14  wake_time           15900 non-null  object \n",
      " 15  mode_of_transport   15900 non-null  object \n",
      " 16  bag_color           15900 non-null  object \n",
      "dtypes: float64(6), int64(1), object(10)\n",
      "memory usage: 2.1+ MB\n"
     ]
    }
   ],
   "source": [
    "#Explore the score table\n",
    "df.info()"
   ]
  },
  {
   "cell_type": "markdown",
   "metadata": {},
   "source": [
    "\"number of siblings\" is the only integer variable among the numerical variables\n",
    "And there a few columns with null values"
   ]
  },
  {
   "cell_type": "code",
   "execution_count": 363,
   "metadata": {},
   "outputs": [
    {
     "data": {
      "text/html": [
       "<div>\n",
       "<style scoped>\n",
       "    .dataframe tbody tr th:only-of-type {\n",
       "        vertical-align: middle;\n",
       "    }\n",
       "\n",
       "    .dataframe tbody tr th {\n",
       "        vertical-align: top;\n",
       "    }\n",
       "\n",
       "    .dataframe thead th {\n",
       "        text-align: right;\n",
       "    }\n",
       "</style>\n",
       "<table border=\"1\" class=\"dataframe\">\n",
       "  <thead>\n",
       "    <tr style=\"text-align: right;\">\n",
       "      <th></th>\n",
       "      <th>number_of_siblings</th>\n",
       "      <th>final_test</th>\n",
       "      <th>n_male</th>\n",
       "      <th>n_female</th>\n",
       "      <th>age</th>\n",
       "      <th>hours_per_week</th>\n",
       "      <th>attendance_rate</th>\n",
       "    </tr>\n",
       "  </thead>\n",
       "  <tbody>\n",
       "    <tr>\n",
       "      <th>count</th>\n",
       "      <td>15900.000000</td>\n",
       "      <td>15405.000000</td>\n",
       "      <td>15900.000000</td>\n",
       "      <td>15900.000000</td>\n",
       "      <td>15900.000000</td>\n",
       "      <td>15900.000000</td>\n",
       "      <td>15122.000000</td>\n",
       "    </tr>\n",
       "    <tr>\n",
       "      <th>mean</th>\n",
       "      <td>0.886541</td>\n",
       "      <td>67.165401</td>\n",
       "      <td>13.880000</td>\n",
       "      <td>8.906038</td>\n",
       "      <td>15.213459</td>\n",
       "      <td>10.312579</td>\n",
       "      <td>93.270268</td>\n",
       "    </tr>\n",
       "    <tr>\n",
       "      <th>std</th>\n",
       "      <td>0.751346</td>\n",
       "      <td>13.977879</td>\n",
       "      <td>6.552584</td>\n",
       "      <td>6.663852</td>\n",
       "      <td>1.758941</td>\n",
       "      <td>4.461861</td>\n",
       "      <td>7.984230</td>\n",
       "    </tr>\n",
       "    <tr>\n",
       "      <th>min</th>\n",
       "      <td>0.000000</td>\n",
       "      <td>32.000000</td>\n",
       "      <td>0.000000</td>\n",
       "      <td>0.000000</td>\n",
       "      <td>-5.000000</td>\n",
       "      <td>0.000000</td>\n",
       "      <td>40.000000</td>\n",
       "    </tr>\n",
       "    <tr>\n",
       "      <th>25%</th>\n",
       "      <td>0.000000</td>\n",
       "      <td>56.000000</td>\n",
       "      <td>10.000000</td>\n",
       "      <td>4.000000</td>\n",
       "      <td>15.000000</td>\n",
       "      <td>7.000000</td>\n",
       "      <td>92.000000</td>\n",
       "    </tr>\n",
       "    <tr>\n",
       "      <th>50%</th>\n",
       "      <td>1.000000</td>\n",
       "      <td>68.000000</td>\n",
       "      <td>14.000000</td>\n",
       "      <td>8.000000</td>\n",
       "      <td>15.000000</td>\n",
       "      <td>9.000000</td>\n",
       "      <td>95.000000</td>\n",
       "    </tr>\n",
       "    <tr>\n",
       "      <th>75%</th>\n",
       "      <td>1.000000</td>\n",
       "      <td>78.000000</td>\n",
       "      <td>18.000000</td>\n",
       "      <td>13.000000</td>\n",
       "      <td>16.000000</td>\n",
       "      <td>14.000000</td>\n",
       "      <td>97.000000</td>\n",
       "    </tr>\n",
       "    <tr>\n",
       "      <th>max</th>\n",
       "      <td>2.000000</td>\n",
       "      <td>100.000000</td>\n",
       "      <td>31.000000</td>\n",
       "      <td>31.000000</td>\n",
       "      <td>16.000000</td>\n",
       "      <td>20.000000</td>\n",
       "      <td>100.000000</td>\n",
       "    </tr>\n",
       "  </tbody>\n",
       "</table>\n",
       "</div>"
      ],
      "text/plain": [
       "       number_of_siblings    final_test        n_male      n_female  \\\n",
       "count        15900.000000  15405.000000  15900.000000  15900.000000   \n",
       "mean             0.886541     67.165401     13.880000      8.906038   \n",
       "std              0.751346     13.977879      6.552584      6.663852   \n",
       "min              0.000000     32.000000      0.000000      0.000000   \n",
       "25%              0.000000     56.000000     10.000000      4.000000   \n",
       "50%              1.000000     68.000000     14.000000      8.000000   \n",
       "75%              1.000000     78.000000     18.000000     13.000000   \n",
       "max              2.000000    100.000000     31.000000     31.000000   \n",
       "\n",
       "                age  hours_per_week  attendance_rate  \n",
       "count  15900.000000    15900.000000     15122.000000  \n",
       "mean      15.213459       10.312579        93.270268  \n",
       "std        1.758941        4.461861         7.984230  \n",
       "min       -5.000000        0.000000        40.000000  \n",
       "25%       15.000000        7.000000        92.000000  \n",
       "50%       15.000000        9.000000        95.000000  \n",
       "75%       16.000000       14.000000        97.000000  \n",
       "max       16.000000       20.000000       100.000000  "
      ]
     },
     "execution_count": 363,
     "metadata": {},
     "output_type": "execute_result"
    }
   ],
   "source": [
    "#Explore the score table\n",
    "df.describe()"
   ]
  },
  {
   "cell_type": "markdown",
   "metadata": {},
   "source": [
    "Of which 7 (not counting the index column) are quantitative variables\n",
    "\n",
    "And looks like we have some outliers in the age column where the minimum cannot be negative, that's something to look out for"
   ]
  },
  {
   "cell_type": "code",
   "execution_count": 364,
   "metadata": {},
   "outputs": [
    {
     "data": {
      "image/png": "[encoded data removed]",
      "text/plain": [
       "<Figure size 600x300 with 1 Axes>"
      ]
     },
     "metadata": {},
     "output_type": "display_data"
    }
   ],
   "source": [
    "\n",
    "plt.figure(figsize=(6,3))\n",
    "sns.histplot(df.age,color='r')\n",
    "plt.title('Age Distribution',size=18)\n",
    "plt.xlabel('Age',size=14)\n",
    "plt.ylabel('Density',size=14)\n",
    "plt.show()"
   ]
  },
  {
   "cell_type": "markdown",
   "metadata": {},
   "source": [
    "Looks like most of the students are 15 and 16 years old. Let's see how many of them are not in this age range"
   ]
  },
  {
   "cell_type": "code",
   "execution_count": 365,
   "metadata": {},
   "outputs": [
    {
     "data": {
      "text/plain": [
       "Counter({15.0: 7726, 16.0: 7723, 6.0: 230, 5.0: 216, -5.0: 4, -4.0: 1})"
      ]
     },
     "execution_count": 365,
     "metadata": {},
     "output_type": "execute_result"
    }
   ],
   "source": [
    "from collections import Counter\n",
    "\n",
    "count = Counter(df.age)\n",
    "count"
   ]
  },
  {
   "cell_type": "markdown",
   "metadata": {},
   "source": [
    "Looks like there are 2 groups of students, those 15-16yo and those 5-6yo. But since we are looking at O level math exam scores, it doesn't make sense for 5-6year olds to be taking these exams. It is more likely that these ages have been recorded wrongly with a missing 1 in front of them i.e. 5 year old should actually be 15 year old.\n",
    "\n",
    "Hence, records with ages 5/6 will be amended to 15/16 respectively.\n",
    "\n",
    "Records with Negative ages will be removed since they are insignficant (only 5 records out of 15.9k)"
   ]
  },
  {
   "cell_type": "code",
   "execution_count": 366,
   "metadata": {},
   "outputs": [],
   "source": [
    "#Remove records with negative ages\n",
    "df = df[df.age > 0]"
   ]
  },
  {
   "cell_type": "code",
   "execution_count": 367,
   "metadata": {},
   "outputs": [
    {
     "data": {
      "text/plain": [
       "Counter({16.0: 7953, 15.0: 7942})"
      ]
     },
     "execution_count": 367,
     "metadata": {},
     "output_type": "execute_result"
    }
   ],
   "source": [
    "#Amend records with ages 5/6\n",
    "df.age = df.age.where(df.age > 6, other = df.age + 10)\n",
    "count = Counter(df.age)\n",
    "count"
   ]
  },
  {
   "cell_type": "code",
   "execution_count": 368,
   "metadata": {},
   "outputs": [
    {
     "data": {
      "text/plain": [
       "number_of_siblings      0\n",
       "direct_admission        0\n",
       "CCA                     0\n",
       "learning_style          0\n",
       "student_id              0\n",
       "gender                  0\n",
       "tuition                 0\n",
       "final_test            495\n",
       "n_male                  0\n",
       "n_female                0\n",
       "age                     0\n",
       "hours_per_week          0\n",
       "attendance_rate       778\n",
       "sleep_time              0\n",
       "wake_time               0\n",
       "mode_of_transport       0\n",
       "bag_color               0\n",
       "dtype: int64"
      ]
     },
     "execution_count": 368,
     "metadata": {},
     "output_type": "execute_result"
    }
   ],
   "source": [
    "#Check for null values\n",
    "df.isnull().sum()"
   ]
  },
  {
   "cell_type": "markdown",
   "metadata": {},
   "source": [
    "Final_test and attendance_rate have null values, we will need to find a way to manage these null values"
   ]
  },
  {
   "cell_type": "code",
   "execution_count": 369,
   "metadata": {},
   "outputs": [
    {
     "name": "stdout",
     "output_type": "stream",
     "text": [
      "Ratio of null values in the final_test column:  0.03214285714285714\n",
      "Ratio of null values in the attendance_rate column:  0.051465237811735134\n",
      "Ratio of null values in any column:  0.07876690783265178\n"
     ]
    }
   ],
   "source": [
    "print('Ratio of null values in the final_test column: ', df['final_test'].isnull().sum()/df['final_test'].count())\n",
    "print('Ratio of null values in the attendance_rate column: ', df['attendance_rate'].isnull().sum()/df['attendance_rate'].count())\n",
    "print('Ratio of null values in any column: ', df.isnull().any(axis = 1).sum()/df.shape[0])"
   ]
  },
  {
   "cell_type": "markdown",
   "metadata": {},
   "source": [
    "Since the number of rows with missing values < 10%, it is likely insignificant and i will be removing these rows\n",
    "\n",
    "We will explore these after the main analysis"
   ]
  },
  {
   "cell_type": "code",
   "execution_count": 370,
   "metadata": {},
   "outputs": [
    {
     "data": {
      "text/plain": [
       "number_of_siblings    0\n",
       "direct_admission      0\n",
       "CCA                   0\n",
       "learning_style        0\n",
       "student_id            0\n",
       "gender                0\n",
       "tuition               0\n",
       "final_test            0\n",
       "n_male                0\n",
       "n_female              0\n",
       "age                   0\n",
       "hours_per_week        0\n",
       "attendance_rate       0\n",
       "sleep_time            0\n",
       "wake_time             0\n",
       "mode_of_transport     0\n",
       "bag_color             0\n",
       "dtype: int64"
      ]
     },
     "execution_count": 370,
     "metadata": {},
     "output_type": "execute_result"
    }
   ],
   "source": [
    "#Remove rows with null values\n",
    "df = df[~df.isnull().any(axis = 1)]\n",
    "df.isnull().sum() #check if it has been implemented correctly"
   ]
  },
  {
   "cell_type": "code",
   "execution_count": 371,
   "metadata": {},
   "outputs": [
    {
     "data": {
      "text/plain": [
       "763"
      ]
     },
     "execution_count": 371,
     "metadata": {},
     "output_type": "execute_result"
    }
   ],
   "source": [
    "#Check for duplicates based on the student_id\n",
    "df['student_id'].duplicated().sum()\n"
   ]
  },
  {
   "cell_type": "markdown",
   "metadata": {},
   "source": [
    "Looks like there are some duplicates based on student ID (which are presumed to be unique to each student)"
   ]
  },
  {
   "cell_type": "code",
   "execution_count": 372,
   "metadata": {},
   "outputs": [
    {
     "data": {
      "text/html": [
       "<div>\n",
       "<style scoped>\n",
       "    .dataframe tbody tr th:only-of-type {\n",
       "        vertical-align: middle;\n",
       "    }\n",
       "\n",
       "    .dataframe tbody tr th {\n",
       "        vertical-align: top;\n",
       "    }\n",
       "\n",
       "    .dataframe thead th {\n",
       "        text-align: right;\n",
       "    }\n",
       "</style>\n",
       "<table border=\"1\" class=\"dataframe\">\n",
       "  <thead>\n",
       "    <tr style=\"text-align: right;\">\n",
       "      <th></th>\n",
       "      <th>number_of_siblings</th>\n",
       "      <th>direct_admission</th>\n",
       "      <th>CCA</th>\n",
       "      <th>learning_style</th>\n",
       "      <th>student_id</th>\n",
       "      <th>gender</th>\n",
       "      <th>tuition</th>\n",
       "      <th>final_test</th>\n",
       "      <th>n_male</th>\n",
       "      <th>n_female</th>\n",
       "      <th>age</th>\n",
       "      <th>hours_per_week</th>\n",
       "      <th>attendance_rate</th>\n",
       "      <th>sleep_time</th>\n",
       "      <th>wake_time</th>\n",
       "      <th>mode_of_transport</th>\n",
       "      <th>bag_color</th>\n",
       "    </tr>\n",
       "  </thead>\n",
       "  <tbody>\n",
       "    <tr>\n",
       "      <th>12290</th>\n",
       "      <td>0</td>\n",
       "      <td>No</td>\n",
       "      <td>Clubs</td>\n",
       "      <td>Auditory</td>\n",
       "      <td>00811H</td>\n",
       "      <td>Female</td>\n",
       "      <td>Yes</td>\n",
       "      <td>88.0</td>\n",
       "      <td>21.0</td>\n",
       "      <td>4.0</td>\n",
       "      <td>15.0</td>\n",
       "      <td>8.0</td>\n",
       "      <td>92.0</td>\n",
       "      <td>23:00</td>\n",
       "      <td>7:00</td>\n",
       "      <td>walk</td>\n",
       "      <td>white</td>\n",
       "    </tr>\n",
       "    <tr>\n",
       "      <th>5534</th>\n",
       "      <td>0</td>\n",
       "      <td>No</td>\n",
       "      <td>Clubs</td>\n",
       "      <td>Auditory</td>\n",
       "      <td>00811H</td>\n",
       "      <td>Female</td>\n",
       "      <td>Yes</td>\n",
       "      <td>88.0</td>\n",
       "      <td>21.0</td>\n",
       "      <td>4.0</td>\n",
       "      <td>15.0</td>\n",
       "      <td>8.0</td>\n",
       "      <td>92.0</td>\n",
       "      <td>23:00</td>\n",
       "      <td>7:00</td>\n",
       "      <td>walk</td>\n",
       "      <td>green</td>\n",
       "    </tr>\n",
       "    <tr>\n",
       "      <th>13541</th>\n",
       "      <td>1</td>\n",
       "      <td>No</td>\n",
       "      <td>Arts</td>\n",
       "      <td>Visual</td>\n",
       "      <td>0195IO</td>\n",
       "      <td>Female</td>\n",
       "      <td>No</td>\n",
       "      <td>52.0</td>\n",
       "      <td>8.0</td>\n",
       "      <td>22.0</td>\n",
       "      <td>16.0</td>\n",
       "      <td>15.0</td>\n",
       "      <td>99.0</td>\n",
       "      <td>22:00</td>\n",
       "      <td>6:00</td>\n",
       "      <td>private transport</td>\n",
       "      <td>yellow</td>\n",
       "    </tr>\n",
       "    <tr>\n",
       "      <th>12270</th>\n",
       "      <td>1</td>\n",
       "      <td>No</td>\n",
       "      <td>Arts</td>\n",
       "      <td>Visual</td>\n",
       "      <td>0195IO</td>\n",
       "      <td>Female</td>\n",
       "      <td>No</td>\n",
       "      <td>52.0</td>\n",
       "      <td>8.0</td>\n",
       "      <td>22.0</td>\n",
       "      <td>16.0</td>\n",
       "      <td>15.0</td>\n",
       "      <td>99.0</td>\n",
       "      <td>22:00</td>\n",
       "      <td>6:00</td>\n",
       "      <td>private transport</td>\n",
       "      <td>yellow</td>\n",
       "    </tr>\n",
       "    <tr>\n",
       "      <th>4303</th>\n",
       "      <td>0</td>\n",
       "      <td>No</td>\n",
       "      <td>Clubs</td>\n",
       "      <td>Auditory</td>\n",
       "      <td>02RSAH</td>\n",
       "      <td>Female</td>\n",
       "      <td>Yes</td>\n",
       "      <td>64.0</td>\n",
       "      <td>12.0</td>\n",
       "      <td>9.0</td>\n",
       "      <td>15.0</td>\n",
       "      <td>17.0</td>\n",
       "      <td>97.0</td>\n",
       "      <td>22:00</td>\n",
       "      <td>6:00</td>\n",
       "      <td>private transport</td>\n",
       "      <td>yellow</td>\n",
       "    </tr>\n",
       "    <tr>\n",
       "      <th>...</th>\n",
       "      <td>...</td>\n",
       "      <td>...</td>\n",
       "      <td>...</td>\n",
       "      <td>...</td>\n",
       "      <td>...</td>\n",
       "      <td>...</td>\n",
       "      <td>...</td>\n",
       "      <td>...</td>\n",
       "      <td>...</td>\n",
       "      <td>...</td>\n",
       "      <td>...</td>\n",
       "      <td>...</td>\n",
       "      <td>...</td>\n",
       "      <td>...</td>\n",
       "      <td>...</td>\n",
       "      <td>...</td>\n",
       "      <td>...</td>\n",
       "    </tr>\n",
       "    <tr>\n",
       "      <th>7511</th>\n",
       "      <td>0</td>\n",
       "      <td>No</td>\n",
       "      <td>None</td>\n",
       "      <td>Auditory</td>\n",
       "      <td>ZUGVXE</td>\n",
       "      <td>Female</td>\n",
       "      <td>No</td>\n",
       "      <td>67.0</td>\n",
       "      <td>24.0</td>\n",
       "      <td>3.0</td>\n",
       "      <td>16.0</td>\n",
       "      <td>9.0</td>\n",
       "      <td>91.0</td>\n",
       "      <td>21:30</td>\n",
       "      <td>5:30</td>\n",
       "      <td>public transport</td>\n",
       "      <td>red</td>\n",
       "    </tr>\n",
       "    <tr>\n",
       "      <th>9953</th>\n",
       "      <td>1</td>\n",
       "      <td>No</td>\n",
       "      <td>Arts</td>\n",
       "      <td>Auditory</td>\n",
       "      <td>ZZICEC</td>\n",
       "      <td>Female</td>\n",
       "      <td>Yes</td>\n",
       "      <td>54.0</td>\n",
       "      <td>11.0</td>\n",
       "      <td>13.0</td>\n",
       "      <td>15.0</td>\n",
       "      <td>12.0</td>\n",
       "      <td>93.0</td>\n",
       "      <td>22:00</td>\n",
       "      <td>6:00</td>\n",
       "      <td>private transport</td>\n",
       "      <td>blue</td>\n",
       "    </tr>\n",
       "    <tr>\n",
       "      <th>4429</th>\n",
       "      <td>1</td>\n",
       "      <td>No</td>\n",
       "      <td>Arts</td>\n",
       "      <td>Auditory</td>\n",
       "      <td>ZZICEC</td>\n",
       "      <td>Female</td>\n",
       "      <td>Yes</td>\n",
       "      <td>54.0</td>\n",
       "      <td>11.0</td>\n",
       "      <td>13.0</td>\n",
       "      <td>15.0</td>\n",
       "      <td>12.0</td>\n",
       "      <td>93.0</td>\n",
       "      <td>22:00</td>\n",
       "      <td>6:00</td>\n",
       "      <td>private transport</td>\n",
       "      <td>green</td>\n",
       "    </tr>\n",
       "    <tr>\n",
       "      <th>1241</th>\n",
       "      <td>0</td>\n",
       "      <td>No</td>\n",
       "      <td>None</td>\n",
       "      <td>Visual</td>\n",
       "      <td>ZZNA57</td>\n",
       "      <td>Male</td>\n",
       "      <td>No</td>\n",
       "      <td>72.0</td>\n",
       "      <td>23.0</td>\n",
       "      <td>5.0</td>\n",
       "      <td>16.0</td>\n",
       "      <td>13.0</td>\n",
       "      <td>95.0</td>\n",
       "      <td>21:30</td>\n",
       "      <td>5:30</td>\n",
       "      <td>public transport</td>\n",
       "      <td>green</td>\n",
       "    </tr>\n",
       "    <tr>\n",
       "      <th>15113</th>\n",
       "      <td>0</td>\n",
       "      <td>No</td>\n",
       "      <td>None</td>\n",
       "      <td>Visual</td>\n",
       "      <td>ZZNA57</td>\n",
       "      <td>Male</td>\n",
       "      <td>No</td>\n",
       "      <td>72.0</td>\n",
       "      <td>23.0</td>\n",
       "      <td>5.0</td>\n",
       "      <td>16.0</td>\n",
       "      <td>13.0</td>\n",
       "      <td>95.0</td>\n",
       "      <td>21:30</td>\n",
       "      <td>5:30</td>\n",
       "      <td>public transport</td>\n",
       "      <td>red</td>\n",
       "    </tr>\n",
       "  </tbody>\n",
       "</table>\n",
       "<p>1526 rows × 17 columns</p>\n",
       "</div>"
      ],
      "text/plain": [
       "       number_of_siblings direct_admission    CCA learning_style student_id  \\\n",
       "12290                   0               No  Clubs       Auditory     00811H   \n",
       "5534                    0               No  Clubs       Auditory     00811H   \n",
       "13541                   1               No   Arts         Visual     0195IO   \n",
       "12270                   1               No   Arts         Visual     0195IO   \n",
       "4303                    0               No  Clubs       Auditory     02RSAH   \n",
       "...                   ...              ...    ...            ...        ...   \n",
       "7511                    0               No   None       Auditory     ZUGVXE   \n",
       "9953                    1               No   Arts       Auditory     ZZICEC   \n",
       "4429                    1               No   Arts       Auditory     ZZICEC   \n",
       "1241                    0               No   None         Visual     ZZNA57   \n",
       "15113                   0               No   None         Visual     ZZNA57   \n",
       "\n",
       "       gender tuition  final_test  n_male  n_female   age  hours_per_week  \\\n",
       "12290  Female     Yes        88.0    21.0       4.0  15.0             8.0   \n",
       "5534   Female     Yes        88.0    21.0       4.0  15.0             8.0   \n",
       "13541  Female      No        52.0     8.0      22.0  16.0            15.0   \n",
       "12270  Female      No        52.0     8.0      22.0  16.0            15.0   \n",
       "4303   Female     Yes        64.0    12.0       9.0  15.0            17.0   \n",
       "...       ...     ...         ...     ...       ...   ...             ...   \n",
       "7511   Female      No        67.0    24.0       3.0  16.0             9.0   \n",
       "9953   Female     Yes        54.0    11.0      13.0  15.0            12.0   \n",
       "4429   Female     Yes        54.0    11.0      13.0  15.0            12.0   \n",
       "1241     Male      No        72.0    23.0       5.0  16.0            13.0   \n",
       "15113    Male      No        72.0    23.0       5.0  16.0            13.0   \n",
       "\n",
       "       attendance_rate sleep_time wake_time  mode_of_transport bag_color  \n",
       "12290             92.0      23:00      7:00               walk     white  \n",
       "5534              92.0      23:00      7:00               walk     green  \n",
       "13541             99.0      22:00      6:00  private transport    yellow  \n",
       "12270             99.0      22:00      6:00  private transport    yellow  \n",
       "4303              97.0      22:00      6:00  private transport    yellow  \n",
       "...                ...        ...       ...                ...       ...  \n",
       "7511              91.0      21:30      5:30   public transport       red  \n",
       "9953              93.0      22:00      6:00  private transport      blue  \n",
       "4429              93.0      22:00      6:00  private transport     green  \n",
       "1241              95.0      21:30      5:30   public transport     green  \n",
       "15113             95.0      21:30      5:30   public transport       red  \n",
       "\n",
       "[1526 rows x 17 columns]"
      ]
     },
     "execution_count": 372,
     "metadata": {},
     "output_type": "execute_result"
    }
   ],
   "source": [
    "#check what the differences between the duplicate rows are\n",
    "dup_ids = df['student_id'][df['student_id'].duplicated()]\n",
    "df_dup = df[df['student_id'].isin(dup_ids)]\n",
    "df_dup = df_dup.sort_values(by = 'student_id')\n",
    "df_dup"
   ]
  },
  {
   "cell_type": "markdown",
   "metadata": {},
   "source": [
    "Looks like we have some duplicates where the student has 2 different bag colours.\n",
    "\n",
    "As bag colour would unlikely affect the student's score, we will just keep the last record of each student ID (assuming the later records are the most up-to-date)"
   ]
  },
  {
   "cell_type": "code",
   "execution_count": 373,
   "metadata": {},
   "outputs": [
    {
     "name": "stdout",
     "output_type": "stream",
     "text": [
      "0\n"
     ]
    }
   ],
   "source": [
    "#Remove duplicate rows of student ID\n",
    "dup_ids = df['student_id'][df['student_id'].duplicated(keep = 'last')]\n",
    "df = df[~df['student_id'].isin(dup_ids)]\n",
    "print(df['student_id'].duplicated().sum()) #check if it has been implemented correctly\n",
    "\n",
    "#Remove the student_ID column as a predictor\n",
    "df.drop(columns = ['student_id'], inplace = True)\n"
   ]
  },
  {
   "cell_type": "markdown",
   "metadata": {},
   "source": [
    "Now let's calculate the duration of sleep from sleep time and wake time"
   ]
  },
  {
   "cell_type": "code",
   "execution_count": 374,
   "metadata": {},
   "outputs": [],
   "source": [
    "df['sleep_time'] = pd.to_datetime(df['sleep_time'],format = '%H:%M')\n",
    "df['wake_time'] = pd.to_datetime(df['wake_time'],format = '%H:%M')\n",
    "dur_sleep = df['wake_time'] - df['sleep_time']\n",
    "\n",
    "hours = dur_sleep.dt.components.hours\n",
    "mins = dur_sleep.dt.components.minutes\n",
    "\n",
    "df['dur_sleep'] = hours + mins/60\n",
    "df['dur_sleep'].unique() #checking if the data looks right\n",
    "\n",
    "df.drop(columns = ['sleep_time','wake_time'], inplace = True)\n"
   ]
  },
  {
   "cell_type": "markdown",
   "metadata": {},
   "source": [
    "Now let's create a new column for number of classmates of the opposite gender"
   ]
  },
  {
   "cell_type": "code",
   "execution_count": 375,
   "metadata": {},
   "outputs": [
    {
     "data": {
      "text/html": [
       "<div>\n",
       "<style scoped>\n",
       "    .dataframe tbody tr th:only-of-type {\n",
       "        vertical-align: middle;\n",
       "    }\n",
       "\n",
       "    .dataframe tbody tr th {\n",
       "        vertical-align: top;\n",
       "    }\n",
       "\n",
       "    .dataframe thead th {\n",
       "        text-align: right;\n",
       "    }\n",
       "</style>\n",
       "<table border=\"1\" class=\"dataframe\">\n",
       "  <thead>\n",
       "    <tr style=\"text-align: right;\">\n",
       "      <th></th>\n",
       "      <th>number_of_siblings</th>\n",
       "      <th>direct_admission</th>\n",
       "      <th>CCA</th>\n",
       "      <th>learning_style</th>\n",
       "      <th>gender</th>\n",
       "      <th>tuition</th>\n",
       "      <th>final_test</th>\n",
       "      <th>n_male</th>\n",
       "      <th>n_female</th>\n",
       "      <th>age</th>\n",
       "      <th>hours_per_week</th>\n",
       "      <th>attendance_rate</th>\n",
       "      <th>mode_of_transport</th>\n",
       "      <th>bag_color</th>\n",
       "      <th>dur_sleep</th>\n",
       "      <th>n_oppgender</th>\n",
       "    </tr>\n",
       "  </thead>\n",
       "  <tbody>\n",
       "    <tr>\n",
       "      <th>0</th>\n",
       "      <td>0</td>\n",
       "      <td>Yes</td>\n",
       "      <td>Sports</td>\n",
       "      <td>Visual</td>\n",
       "      <td>Female</td>\n",
       "      <td>No</td>\n",
       "      <td>69.0</td>\n",
       "      <td>14.0</td>\n",
       "      <td>2.0</td>\n",
       "      <td>16.0</td>\n",
       "      <td>10.0</td>\n",
       "      <td>91.0</td>\n",
       "      <td>private transport</td>\n",
       "      <td>yellow</td>\n",
       "      <td>8.0</td>\n",
       "      <td>14.0</td>\n",
       "    </tr>\n",
       "    <tr>\n",
       "      <th>1</th>\n",
       "      <td>2</td>\n",
       "      <td>No</td>\n",
       "      <td>Sports</td>\n",
       "      <td>Auditory</td>\n",
       "      <td>Female</td>\n",
       "      <td>No</td>\n",
       "      <td>47.0</td>\n",
       "      <td>4.0</td>\n",
       "      <td>19.0</td>\n",
       "      <td>16.0</td>\n",
       "      <td>7.0</td>\n",
       "      <td>94.0</td>\n",
       "      <td>private transport</td>\n",
       "      <td>green</td>\n",
       "      <td>8.0</td>\n",
       "      <td>4.0</td>\n",
       "    </tr>\n",
       "    <tr>\n",
       "      <th>2</th>\n",
       "      <td>0</td>\n",
       "      <td>Yes</td>\n",
       "      <td>None</td>\n",
       "      <td>Visual</td>\n",
       "      <td>Male</td>\n",
       "      <td>No</td>\n",
       "      <td>85.0</td>\n",
       "      <td>14.0</td>\n",
       "      <td>2.0</td>\n",
       "      <td>15.0</td>\n",
       "      <td>8.0</td>\n",
       "      <td>92.0</td>\n",
       "      <td>private transport</td>\n",
       "      <td>white</td>\n",
       "      <td>8.0</td>\n",
       "      <td>2.0</td>\n",
       "    </tr>\n",
       "    <tr>\n",
       "      <th>5</th>\n",
       "      <td>0</td>\n",
       "      <td>No</td>\n",
       "      <td>Arts</td>\n",
       "      <td>Visual</td>\n",
       "      <td>Female</td>\n",
       "      <td>No</td>\n",
       "      <td>57.0</td>\n",
       "      <td>9.0</td>\n",
       "      <td>12.0</td>\n",
       "      <td>15.0</td>\n",
       "      <td>11.0</td>\n",
       "      <td>96.0</td>\n",
       "      <td>private transport</td>\n",
       "      <td>red</td>\n",
       "      <td>8.0</td>\n",
       "      <td>9.0</td>\n",
       "    </tr>\n",
       "    <tr>\n",
       "      <th>6</th>\n",
       "      <td>2</td>\n",
       "      <td>Yes</td>\n",
       "      <td>None</td>\n",
       "      <td>Visual</td>\n",
       "      <td>Male</td>\n",
       "      <td>No</td>\n",
       "      <td>69.0</td>\n",
       "      <td>12.0</td>\n",
       "      <td>3.0</td>\n",
       "      <td>16.0</td>\n",
       "      <td>15.0</td>\n",
       "      <td>93.0</td>\n",
       "      <td>public transport</td>\n",
       "      <td>green</td>\n",
       "      <td>8.0</td>\n",
       "      <td>3.0</td>\n",
       "    </tr>\n",
       "  </tbody>\n",
       "</table>\n",
       "</div>"
      ],
      "text/plain": [
       "   number_of_siblings direct_admission     CCA learning_style  gender tuition  \\\n",
       "0                   0              Yes  Sports         Visual  Female      No   \n",
       "1                   2               No  Sports       Auditory  Female      No   \n",
       "2                   0              Yes    None         Visual    Male      No   \n",
       "5                   0               No    Arts         Visual  Female      No   \n",
       "6                   2              Yes    None         Visual    Male      No   \n",
       "\n",
       "   final_test  n_male  n_female   age  hours_per_week  attendance_rate  \\\n",
       "0        69.0    14.0       2.0  16.0            10.0             91.0   \n",
       "1        47.0     4.0      19.0  16.0             7.0             94.0   \n",
       "2        85.0    14.0       2.0  15.0             8.0             92.0   \n",
       "5        57.0     9.0      12.0  15.0            11.0             96.0   \n",
       "6        69.0    12.0       3.0  16.0            15.0             93.0   \n",
       "\n",
       "   mode_of_transport bag_color  dur_sleep  n_oppgender  \n",
       "0  private transport    yellow        8.0         14.0  \n",
       "1  private transport     green        8.0          4.0  \n",
       "2  private transport     white        8.0          2.0  \n",
       "5  private transport       red        8.0          9.0  \n",
       "6   public transport     green        8.0          3.0  "
      ]
     },
     "execution_count": 375,
     "metadata": {},
     "output_type": "execute_result"
    }
   ],
   "source": [
    "df['n_oppgender'] = np.where(df['gender'] == 'Female', df['n_male'], df['n_female'])\n",
    "df.head()"
   ]
  },
  {
   "cell_type": "code",
   "execution_count": 376,
   "metadata": {},
   "outputs": [],
   "source": [
    "#Looks like the transcribing is correct, let's remove the n_male and n_female columns\n",
    "df.drop(columns = ['n_male','n_female'], inplace = True)"
   ]
  },
  {
   "cell_type": "markdown",
   "metadata": {},
   "source": [
    "Now we will explore the distribution of the dependent variable"
   ]
  },
  {
   "cell_type": "code",
   "execution_count": 377,
   "metadata": {},
   "outputs": [
    {
     "data": {
      "text/plain": [
       "<Figure size 600x300 with 0 Axes>"
      ]
     },
     "metadata": {},
     "output_type": "display_data"
    },
    {
     "data": {
      "image/png": "[encoded data removed]",
      "text/plain": [
       "<Figure size 500x500 with 1 Axes>"
      ]
     },
     "metadata": {},
     "output_type": "display_data"
    }
   ],
   "source": [
    "plt.figure(figsize=(6,3))\n",
    "sns.displot(df.final_test,color='r', kde = True)\n",
    "plt.title('Test Scores Distribution',size=18)\n",
    "plt.xlabel('Test Scores',size=14)\n",
    "plt.ylabel('Density',size=14)\n",
    "plt.show()"
   ]
  },
  {
   "cell_type": "markdown",
   "metadata": {},
   "source": [
    "Let's explor the histogram of the numerical values"
   ]
  },
  {
   "cell_type": "code",
   "execution_count": 378,
   "metadata": {},
   "outputs": [
    {
     "name": "stderr",
     "output_type": "stream",
     "text": [
      "C:\\Users\\User\\AppData\\Local\\Temp\\ipykernel_15832\\3624823292.py:5: UserWarning: To output multiple subplots, the figure containing the passed axes is being cleared.\n",
      "  df[df.describe().columns].hist(ax=ax, color = \"r\")\n"
     ]
    },
    {
     "data": {
      "image/png": "[encoded data removed]",
      "text/plain": [
       "<Figure size 800x1000 with 9 Axes>"
      ]
     },
     "metadata": {},
     "output_type": "display_data"
    }
   ],
   "source": [
    "%matplotlib inline\n",
    "import matplotlib.pyplot as plt\n",
    "fig = plt.figure(figsize = (8,10))\n",
    "ax = fig.gca()\n",
    "df[df.describe().columns].hist(ax=ax, color = \"r\")\n",
    "plt.show()"
   ]
  },
  {
   "cell_type": "markdown",
   "metadata": {},
   "source": [
    "One key observation is that most of these predictors do not follow a normal distribution"
   ]
  },
  {
   "cell_type": "markdown",
   "metadata": {},
   "source": [
    "Now we will explore pairplots of the numerical values"
   ]
  },
  {
   "cell_type": "code",
   "execution_count": 379,
   "metadata": {},
   "outputs": [
    {
     "data": {
      "text/plain": [
       "Index(['number_of_siblings', 'final_test', 'age', 'hours_per_week',\n",
       "       'attendance_rate', 'dur_sleep', 'n_oppgender'],\n",
       "      dtype='object')"
      ]
     },
     "execution_count": 379,
     "metadata": {},
     "output_type": "execute_result"
    }
   ],
   "source": [
    "df.describe().columns"
   ]
  },
  {
   "cell_type": "code",
   "execution_count": 380,
   "metadata": {},
   "outputs": [
    {
     "data": {
      "image/png": "[encoded data removed]",
      "text/plain": [
       "<Figure size 1500x250 with 6 Axes>"
      ]
     },
     "metadata": {},
     "output_type": "display_data"
    }
   ],
   "source": [
    "#less the index column\n",
    "sns.set_palette(\"pastel\")\n",
    "sns.pairplot(df, \n",
    "                 y_vars = ['final_test'],\n",
    "                 x_vars = ['number_of_siblings','n_oppgender','age', 'hours_per_week', 'attendance_rate','dur_sleep'],\n",
    "                 markers=\"+\",\n",
    "                 diag_kind=\"kde\",\n",
    "                 kind='reg',\n",
    "                 plot_kws={'line_kws':{'color':'red'}, \n",
    "                           'scatter_kws': {'alpha': 0.7}},\n",
    "                );"
   ]
  },
  {
   "cell_type": "markdown",
   "metadata": {},
   "source": [
    "At first impressions, it seems like there are relationships between final test scores with:\n",
    "1. Number of siblings (inverse relationship)\n",
    "2. Number of classmates of the opposite gender (inverse relationship)\n",
    "3. Number of hours spent studying per week\n",
    "4. The attendance rate\n",
    "5. Duration of sleep"
   ]
  },
  {
   "cell_type": "code",
   "execution_count": 381,
   "metadata": {},
   "outputs": [
    {
     "data": {
      "text/plain": [
       "['number_of_siblings',\n",
       " 'age',\n",
       " 'hours_per_week',\n",
       " 'attendance_rate',\n",
       " 'dur_sleep',\n",
       " 'n_oppgender']"
      ]
     },
     "execution_count": 381,
     "metadata": {},
     "output_type": "execute_result"
    }
   ],
   "source": [
    "#Obtain the numeric columns less the final test column\n",
    "numeric_columns = df.select_dtypes(np.number).columns\n",
    "numeric_columns = [x for x in numeric_columns if x != \"final_test\"]\n",
    "numeric_columns"
   ]
  },
  {
   "cell_type": "code",
   "execution_count": 382,
   "metadata": {},
   "outputs": [
    {
     "data": {
      "image/png": "[encoded data removed]",
      "text/plain": [
       "<Figure size 1000x600 with 2 Axes>"
      ]
     },
     "metadata": {},
     "output_type": "display_data"
    }
   ],
   "source": [
    "#Plot the correlation heatmap\n",
    "plt.figure(figsize = (10,6))\n",
    "sns.heatmap(df[numeric_columns].corr(),annot=True,square=True,\n",
    "            cmap='RdBu',\n",
    "            vmax=1,\n",
    "            vmin=-1)\n",
    "plt.title('Correlations Between Variables',size=18);\n",
    "plt.xticks(size=13)\n",
    "plt.yticks(size=13)\n",
    "plt.show()"
   ]
  },
  {
   "cell_type": "markdown",
   "metadata": {},
   "source": [
    "Looks like there's high positive correlation between attendance rate and duration of sleep.\n",
    "\n",
    "Let's drop duration of sleep and use attendance rate as a predictor."
   ]
  },
  {
   "cell_type": "code",
   "execution_count": 383,
   "metadata": {},
   "outputs": [],
   "source": [
    "df.drop(columns = ['dur_sleep'], inplace = True)"
   ]
  },
  {
   "cell_type": "code",
   "execution_count": 384,
   "metadata": {},
   "outputs": [
    {
     "data": {
      "text/plain": [
       "['number_of_siblings',\n",
       " 'age',\n",
       " 'hours_per_week',\n",
       " 'attendance_rate',\n",
       " 'n_oppgender']"
      ]
     },
     "execution_count": 384,
     "metadata": {},
     "output_type": "execute_result"
    }
   ],
   "source": [
    "#Obtain the numeric columns less the final test column\n",
    "numeric_columns = df.select_dtypes(np.number).columns\n",
    "numeric_columns = [x for x in numeric_columns if x != \"final_test\"]\n",
    "numeric_columns"
   ]
  },
  {
   "cell_type": "markdown",
   "metadata": {},
   "source": [
    "We will now clean the categorical variables"
   ]
  },
  {
   "cell_type": "code",
   "execution_count": 385,
   "metadata": {},
   "outputs": [
    {
     "data": {
      "text/plain": [
       "['gender',\n",
       " 'direct_admission',\n",
       " 'CCA',\n",
       " 'mode_of_transport',\n",
       " 'tuition',\n",
       " 'learning_style',\n",
       " 'bag_color']"
      ]
     },
     "execution_count": 385,
     "metadata": {},
     "output_type": "execute_result"
    }
   ],
   "source": [
    "#The categorical variables are:\n",
    "cat_cols = [x for x in set(df.columns) - set(numeric_columns) if x != 'final_test']\n",
    "cat_cols"
   ]
  },
  {
   "cell_type": "code",
   "execution_count": 386,
   "metadata": {},
   "outputs": [
    {
     "name": "stdout",
     "output_type": "stream",
     "text": [
      "gender ['Female' 'Male']\n",
      "direct_admission ['Yes' 'No']\n",
      "CCA ['Sports' 'None' 'Arts' 'ARTS' 'Clubs' 'SPORTS' 'CLUBS' 'NONE']\n",
      "mode_of_transport ['private transport' 'public transport' 'walk']\n",
      "tuition ['No' 'Yes' 'Y' 'N']\n",
      "learning_style ['Visual' 'Auditory']\n",
      "bag_color ['yellow' 'green' 'white' 'red' 'blue' 'black']\n"
     ]
    }
   ],
   "source": [
    "#And the unique variables are:\n",
    "for c in df[cat_cols]:\n",
    "    print(c,df[c].unique())"
   ]
  },
  {
   "cell_type": "code",
   "execution_count": 387,
   "metadata": {},
   "outputs": [
    {
     "name": "stdout",
     "output_type": "stream",
     "text": [
      "gender ['Female' 'Male']\n",
      "direct_admission ['Yes' 'No']\n",
      "CCA ['sports' 'none' 'arts' 'clubs']\n",
      "mode_of_transport ['private transport' 'public transport' 'walk']\n",
      "tuition ['No' 'Yes']\n",
      "learning_style ['Visual' 'Auditory']\n",
      "bag_color ['yellow' 'green' 'white' 'red' 'blue' 'black']\n"
     ]
    }
   ],
   "source": [
    "#Standardise the Y to Yes and N to No for the tuition column\n",
    "df['tuition'] = df['tuition'].replace(to_replace = {'Y':'Yes','N':\"No\"})\n",
    "\n",
    "#Standardise the names of the CCA in the CCA column\n",
    "df['CCA'] = df['CCA'].str.lower()\n",
    "\n",
    "for c in df[cat_cols]:\n",
    "    print(c,df[c].unique())\n"
   ]
  },
  {
   "cell_type": "markdown",
   "metadata": {},
   "source": [
    "Looks like all categories are cleaned up, now to encode them. We will use one-hot encoding since there aren't too many categories per column, recognising that this might lead to multicollinearity. But the alternative of label encoding would be an issue since I'm planning to run a linear regression model. (ordinality is preserved even though there's no meaning to it). Binary encoding also adds an additional layer of complexity"
   ]
  },
  {
   "cell_type": "code",
   "execution_count": 388,
   "metadata": {},
   "outputs": [],
   "source": [
    "from sklearn.preprocessing import OneHotEncoder\n",
    "\n",
    "encoder = OneHotEncoder()\n",
    "encoded_data =  encoder.fit_transform(df[cat_cols])\n",
    "df_cat_cols = pd.DataFrame(encoded_data.toarray(), columns=encoder.get_feature_names_out(cat_cols))\n",
    "\n",
    "df.reset_index(drop = True, inplace = True)\n",
    "df = pd.concat((df[df.columns[~df.columns.isin(cat_cols)]], df_cat_cols), axis = 1)\n"
   ]
  },
  {
   "cell_type": "code",
   "execution_count": 389,
   "metadata": {},
   "outputs": [
    {
     "data": {
      "text/plain": [
       "Index(['number_of_siblings', 'final_test', 'age', 'hours_per_week',\n",
       "       'attendance_rate', 'n_oppgender', 'gender_Female', 'gender_Male',\n",
       "       'direct_admission_No', 'direct_admission_Yes', 'CCA_arts', 'CCA_clubs',\n",
       "       'CCA_none', 'CCA_sports', 'mode_of_transport_private transport',\n",
       "       'mode_of_transport_public transport', 'mode_of_transport_walk',\n",
       "       'tuition_No', 'tuition_Yes', 'learning_style_Auditory',\n",
       "       'learning_style_Visual', 'bag_color_black', 'bag_color_blue',\n",
       "       'bag_color_green', 'bag_color_red', 'bag_color_white',\n",
       "       'bag_color_yellow'],\n",
       "      dtype='object')"
      ]
     },
     "execution_count": 389,
     "metadata": {},
     "output_type": "execute_result"
    }
   ],
   "source": [
    "df.columns"
   ]
  },
  {
   "cell_type": "markdown",
   "metadata": {},
   "source": [
    "We will drop one redundant column per category"
   ]
  },
  {
   "cell_type": "code",
   "execution_count": 390,
   "metadata": {},
   "outputs": [],
   "source": [
    "df.drop(columns = ['tuition_No', 'learning_style_Auditory','bag_color_black','mode_of_transport_walk','CCA_none','direct_admission_No','gender_Female'], inplace = True)"
   ]
  },
  {
   "cell_type": "code",
   "execution_count": 391,
   "metadata": {},
   "outputs": [
    {
     "data": {
      "text/html": [
       "<div>\n",
       "<style scoped>\n",
       "    .dataframe tbody tr th:only-of-type {\n",
       "        vertical-align: middle;\n",
       "    }\n",
       "\n",
       "    .dataframe tbody tr th {\n",
       "        vertical-align: top;\n",
       "    }\n",
       "\n",
       "    .dataframe thead th {\n",
       "        text-align: right;\n",
       "    }\n",
       "</style>\n",
       "<table border=\"1\" class=\"dataframe\">\n",
       "  <thead>\n",
       "    <tr style=\"text-align: right;\">\n",
       "      <th></th>\n",
       "      <th>number_of_siblings</th>\n",
       "      <th>final_test</th>\n",
       "      <th>age</th>\n",
       "      <th>hours_per_week</th>\n",
       "      <th>attendance_rate</th>\n",
       "      <th>n_oppgender</th>\n",
       "      <th>gender_Male</th>\n",
       "      <th>direct_admission_Yes</th>\n",
       "      <th>CCA_arts</th>\n",
       "      <th>CCA_clubs</th>\n",
       "      <th>CCA_sports</th>\n",
       "      <th>mode_of_transport_private transport</th>\n",
       "      <th>mode_of_transport_public transport</th>\n",
       "      <th>tuition_Yes</th>\n",
       "      <th>learning_style_Visual</th>\n",
       "      <th>bag_color_blue</th>\n",
       "      <th>bag_color_green</th>\n",
       "      <th>bag_color_red</th>\n",
       "      <th>bag_color_white</th>\n",
       "      <th>bag_color_yellow</th>\n",
       "    </tr>\n",
       "  </thead>\n",
       "  <tbody>\n",
       "    <tr>\n",
       "      <th>0</th>\n",
       "      <td>0</td>\n",
       "      <td>69.0</td>\n",
       "      <td>16.0</td>\n",
       "      <td>10.0</td>\n",
       "      <td>91.0</td>\n",
       "      <td>14.0</td>\n",
       "      <td>0.0</td>\n",
       "      <td>1.0</td>\n",
       "      <td>0.0</td>\n",
       "      <td>0.0</td>\n",
       "      <td>1.0</td>\n",
       "      <td>1.0</td>\n",
       "      <td>0.0</td>\n",
       "      <td>0.0</td>\n",
       "      <td>1.0</td>\n",
       "      <td>0.0</td>\n",
       "      <td>0.0</td>\n",
       "      <td>0.0</td>\n",
       "      <td>0.0</td>\n",
       "      <td>1.0</td>\n",
       "    </tr>\n",
       "    <tr>\n",
       "      <th>1</th>\n",
       "      <td>2</td>\n",
       "      <td>47.0</td>\n",
       "      <td>16.0</td>\n",
       "      <td>7.0</td>\n",
       "      <td>94.0</td>\n",
       "      <td>4.0</td>\n",
       "      <td>0.0</td>\n",
       "      <td>0.0</td>\n",
       "      <td>0.0</td>\n",
       "      <td>0.0</td>\n",
       "      <td>1.0</td>\n",
       "      <td>1.0</td>\n",
       "      <td>0.0</td>\n",
       "      <td>0.0</td>\n",
       "      <td>0.0</td>\n",
       "      <td>0.0</td>\n",
       "      <td>1.0</td>\n",
       "      <td>0.0</td>\n",
       "      <td>0.0</td>\n",
       "      <td>0.0</td>\n",
       "    </tr>\n",
       "    <tr>\n",
       "      <th>2</th>\n",
       "      <td>0</td>\n",
       "      <td>85.0</td>\n",
       "      <td>15.0</td>\n",
       "      <td>8.0</td>\n",
       "      <td>92.0</td>\n",
       "      <td>2.0</td>\n",
       "      <td>1.0</td>\n",
       "      <td>1.0</td>\n",
       "      <td>0.0</td>\n",
       "      <td>0.0</td>\n",
       "      <td>0.0</td>\n",
       "      <td>1.0</td>\n",
       "      <td>0.0</td>\n",
       "      <td>0.0</td>\n",
       "      <td>1.0</td>\n",
       "      <td>0.0</td>\n",
       "      <td>0.0</td>\n",
       "      <td>0.0</td>\n",
       "      <td>1.0</td>\n",
       "      <td>0.0</td>\n",
       "    </tr>\n",
       "    <tr>\n",
       "      <th>3</th>\n",
       "      <td>0</td>\n",
       "      <td>57.0</td>\n",
       "      <td>15.0</td>\n",
       "      <td>11.0</td>\n",
       "      <td>96.0</td>\n",
       "      <td>9.0</td>\n",
       "      <td>0.0</td>\n",
       "      <td>0.0</td>\n",
       "      <td>1.0</td>\n",
       "      <td>0.0</td>\n",
       "      <td>0.0</td>\n",
       "      <td>1.0</td>\n",
       "      <td>0.0</td>\n",
       "      <td>0.0</td>\n",
       "      <td>1.0</td>\n",
       "      <td>0.0</td>\n",
       "      <td>0.0</td>\n",
       "      <td>1.0</td>\n",
       "      <td>0.0</td>\n",
       "      <td>0.0</td>\n",
       "    </tr>\n",
       "    <tr>\n",
       "      <th>4</th>\n",
       "      <td>2</td>\n",
       "      <td>69.0</td>\n",
       "      <td>16.0</td>\n",
       "      <td>15.0</td>\n",
       "      <td>93.0</td>\n",
       "      <td>3.0</td>\n",
       "      <td>1.0</td>\n",
       "      <td>1.0</td>\n",
       "      <td>0.0</td>\n",
       "      <td>0.0</td>\n",
       "      <td>0.0</td>\n",
       "      <td>0.0</td>\n",
       "      <td>1.0</td>\n",
       "      <td>0.0</td>\n",
       "      <td>1.0</td>\n",
       "      <td>0.0</td>\n",
       "      <td>1.0</td>\n",
       "      <td>0.0</td>\n",
       "      <td>0.0</td>\n",
       "      <td>0.0</td>\n",
       "    </tr>\n",
       "  </tbody>\n",
       "</table>\n",
       "</div>"
      ],
      "text/plain": [
       "   number_of_siblings  final_test   age  hours_per_week  attendance_rate  \\\n",
       "0                   0        69.0  16.0            10.0             91.0   \n",
       "1                   2        47.0  16.0             7.0             94.0   \n",
       "2                   0        85.0  15.0             8.0             92.0   \n",
       "3                   0        57.0  15.0            11.0             96.0   \n",
       "4                   2        69.0  16.0            15.0             93.0   \n",
       "\n",
       "   n_oppgender  gender_Male  direct_admission_Yes  CCA_arts  CCA_clubs  \\\n",
       "0         14.0          0.0                   1.0       0.0        0.0   \n",
       "1          4.0          0.0                   0.0       0.0        0.0   \n",
       "2          2.0          1.0                   1.0       0.0        0.0   \n",
       "3          9.0          0.0                   0.0       1.0        0.0   \n",
       "4          3.0          1.0                   1.0       0.0        0.0   \n",
       "\n",
       "   CCA_sports  mode_of_transport_private transport  \\\n",
       "0         1.0                                  1.0   \n",
       "1         1.0                                  1.0   \n",
       "2         0.0                                  1.0   \n",
       "3         0.0                                  1.0   \n",
       "4         0.0                                  0.0   \n",
       "\n",
       "   mode_of_transport_public transport  tuition_Yes  learning_style_Visual  \\\n",
       "0                                 0.0          0.0                    1.0   \n",
       "1                                 0.0          0.0                    0.0   \n",
       "2                                 0.0          0.0                    1.0   \n",
       "3                                 0.0          0.0                    1.0   \n",
       "4                                 1.0          0.0                    1.0   \n",
       "\n",
       "   bag_color_blue  bag_color_green  bag_color_red  bag_color_white  \\\n",
       "0             0.0              0.0            0.0              0.0   \n",
       "1             0.0              1.0            0.0              0.0   \n",
       "2             0.0              0.0            0.0              1.0   \n",
       "3             0.0              0.0            1.0              0.0   \n",
       "4             0.0              1.0            0.0              0.0   \n",
       "\n",
       "   bag_color_yellow  \n",
       "0               1.0  \n",
       "1               0.0  \n",
       "2               0.0  \n",
       "3               0.0  \n",
       "4               0.0  "
      ]
     },
     "execution_count": 391,
     "metadata": {},
     "output_type": "execute_result"
    }
   ],
   "source": [
    "df.head()"
   ]
  },
  {
   "cell_type": "markdown",
   "metadata": {},
   "source": [
    "Now let's scale the data for ease of comparison later"
   ]
  },
  {
   "cell_type": "code",
   "execution_count": 392,
   "metadata": {},
   "outputs": [],
   "source": [
    "from sklearn.preprocessing import MinMaxScaler #Using MinMaxScaler instead of StandardScaler since upper and lower boundaries are known. Furthermore, some of the values do not look like they follow a normal distribution\n",
    "\n",
    "scaler = MinMaxScaler()\n",
    "df[df.columns] = scaler.fit_transform(df[df.columns])"
   ]
  },
  {
   "cell_type": "markdown",
   "metadata": {},
   "source": [
    "Now that the data is processed, we can start feeding the data into a few models and assess their performance"
   ]
  },
  {
   "cell_type": "markdown",
   "metadata": {},
   "source": [
    "First, let's run the data through a linear regression model"
   ]
  },
  {
   "cell_type": "code",
   "execution_count": 393,
   "metadata": {},
   "outputs": [],
   "source": [
    "dependent_col = ['final_test']\n",
    "independent_col = [x for x in set(df.columns) - set(dependent_col)]"
   ]
  },
  {
   "cell_type": "code",
   "execution_count": 394,
   "metadata": {},
   "outputs": [],
   "source": [
    "# Settings Train / Test Split. \n",
    "from sklearn.model_selection import train_test_split\n",
    "\n",
    "# Splitting into Training and Holdout Test Sets\n",
    "# Ensure stratification for now. We will adjust the ratio only later if required.\n",
    "X_train, X_test, y_train, y_test = train_test_split(df[independent_col], df[dependent_col],\\\n",
    "                                                    stratify=df[dependent_col], test_size=0.2, random_state=121)"
   ]
  },
  {
   "cell_type": "code",
   "execution_count": 395,
   "metadata": {},
   "outputs": [
    {
     "name": "stdout",
     "output_type": "stream",
     "text": [
      "                          Results: Ordinary least squares\n",
      "====================================================================================\n",
      "Model:                    OLS                   Adj. R-squared:          0.470      \n",
      "Dependent Variable:       final_test            AIC:                     -10067.1864\n",
      "Date:                     2024-04-24 22:36      BIC:                     -9922.0171 \n",
      "No. Observations:         10493                 Log-Likelihood:          5053.6     \n",
      "Df Model:                 19                    F-statistic:             490.9      \n",
      "Df Residuals:             10473                 Prob (F-statistic):      0.00       \n",
      "R-squared:                0.471                 Scale:                   0.022389   \n",
      "------------------------------------------------------------------------------------\n",
      "                                     Coef.  Std.Err.    t     P>|t|   [0.025  0.975]\n",
      "------------------------------------------------------------------------------------\n",
      "const                                0.2993   0.0127  23.5534 0.0000  0.2744  0.3242\n",
      "CCA_arts                            -0.1157   0.0043 -27.1798 0.0000 -0.1241 -0.1074\n",
      "age                                  0.0007   0.0029   0.2494 0.8031 -0.0050  0.0065\n",
      "learning_style_Visual                0.0843   0.0030  27.8427 0.0000  0.0784  0.0903\n",
      "mode_of_transport_private transport -0.0038   0.0040  -0.9483 0.3430 -0.0116  0.0040\n",
      "bag_color_yellow                     0.0003   0.0050   0.0533 0.9575 -0.0096  0.0101\n",
      "bag_color_green                     -0.0096   0.0051  -1.8856 0.0594 -0.0195  0.0004\n",
      "tuition_Yes                          0.0883   0.0030  29.4279 0.0000  0.0824  0.0942\n",
      "attendance_rate                      0.3959   0.0115  34.2782 0.0000  0.3733  0.4185\n",
      "CCA_sports                          -0.1177   0.0042 -27.7942 0.0000 -0.1260 -0.1094\n",
      "direct_admission_Yes                 0.0749   0.0033  22.5212 0.0000  0.0683  0.0814\n",
      "mode_of_transport_public transport  -0.0009   0.0040  -0.2163 0.8288 -0.0087  0.0070\n",
      "number_of_siblings                  -0.1554   0.0040 -39.0078 0.0000 -0.1632 -0.1476\n",
      "bag_color_red                       -0.0004   0.0051  -0.0731 0.9417 -0.0103  0.0096\n",
      "hours_per_week                      -0.0911   0.0068 -13.4569 0.0000 -0.1044 -0.0779\n",
      "n_oppgender                         -0.0972   0.0073 -13.2728 0.0000 -0.1116 -0.0829\n",
      "gender_Male                         -0.0065   0.0032  -2.0431 0.0411 -0.0127 -0.0003\n",
      "bag_color_blue                      -0.0030   0.0051  -0.5887 0.5561 -0.0130  0.0070\n",
      "bag_color_white                     -0.0008   0.0051  -0.1478 0.8825 -0.0107  0.0092\n",
      "CCA_clubs                           -0.1205   0.0042 -28.4962 0.0000 -0.1288 -0.1122\n",
      "------------------------------------------------------------------------------------\n",
      "Omnibus:                    6.569               Durbin-Watson:                 1.991\n",
      "Prob(Omnibus):              0.037               Jarque-Bera (JB):              6.582\n",
      "Skew:                       -0.061              Prob(JB):                      0.037\n",
      "Kurtosis:                   2.993               Condition No.:                 23   \n",
      "====================================================================================\n",
      "Notes:\n",
      "[1] Standard Errors assume that the covariance matrix of the errors is correctly\n",
      "specified.\n"
     ]
    }
   ],
   "source": [
    "import statsmodels.api as st\n",
    "X1 = st.add_constant(X_train)\n",
    "lin_model=st.OLS(y_train,X1)\n",
    "result=lin_model.fit()\n",
    "print(result.summary2())"
   ]
  },
  {
   "cell_type": "markdown",
   "metadata": {},
   "source": [
    "The P-value for age, bag_color and mode of transport are more than 0.05, hence we will remove them and rerun the linear regression"
   ]
  },
  {
   "cell_type": "code",
   "execution_count": 396,
   "metadata": {},
   "outputs": [],
   "source": [
    "df.drop(columns = ['age','bag_color_white','bag_color_green','bag_color_red','bag_color_blue','bag_color_yellow','mode_of_transport_public transport','mode_of_transport_private transport'], inplace = True)"
   ]
  },
  {
   "cell_type": "code",
   "execution_count": 397,
   "metadata": {},
   "outputs": [
    {
     "name": "stdout",
     "output_type": "stream",
     "text": [
      "                   Results: Ordinary least squares\n",
      "======================================================================\n",
      "Model:                OLS              Adj. R-squared:     0.470      \n",
      "Dependent Variable:   final_test       AIC:                -10076.2637\n",
      "Date:                 2024-04-24 22:36 BIC:                -9989.1621 \n",
      "No. Observations:     10493            Log-Likelihood:     5050.1     \n",
      "Df Model:             11               F-statistic:        847.4      \n",
      "Df Residuals:         10481            Prob (F-statistic): 0.00       \n",
      "R-squared:            0.471            Scale:              0.022386   \n",
      "----------------------------------------------------------------------\n",
      "                       Coef.  Std.Err.    t     P>|t|   [0.025  0.975]\n",
      "----------------------------------------------------------------------\n",
      "const                  0.2952   0.0118  25.1152 0.0000  0.2722  0.3183\n",
      "number_of_siblings    -0.1553   0.0040 -39.0224 0.0000 -0.1631 -0.1475\n",
      "CCA_arts              -0.1156   0.0043 -27.1548 0.0000 -0.1239 -0.1072\n",
      "hours_per_week        -0.0911   0.0068 -13.4588 0.0000 -0.1044 -0.0779\n",
      "learning_style_Visual  0.0844   0.0030  27.8814 0.0000  0.0785  0.0904\n",
      "n_oppgender           -0.0970   0.0073 -13.2492 0.0000 -0.1114 -0.0827\n",
      "gender_Male           -0.0065   0.0032  -2.0457 0.0408 -0.0127 -0.0003\n",
      "tuition_Yes            0.0883   0.0030  29.4579 0.0000  0.0824  0.0942\n",
      "attendance_rate        0.3960   0.0115  34.3045 0.0000  0.3734  0.4187\n",
      "CCA_sports            -0.1176   0.0042 -27.7931 0.0000 -0.1259 -0.1093\n",
      "direct_admission_Yes   0.0748   0.0033  22.5222 0.0000  0.0683  0.0814\n",
      "CCA_clubs             -0.1203   0.0042 -28.4663 0.0000 -0.1286 -0.1120\n",
      "----------------------------------------------------------------------\n",
      "Omnibus:                6.723          Durbin-Watson:            1.991\n",
      "Prob(Omnibus):          0.035          Jarque-Bera (JB):         6.743\n",
      "Skew:                   -0.062         Prob(JB):                 0.034\n",
      "Kurtosis:               2.988          Condition No.:            20   \n",
      "======================================================================\n",
      "Notes:\n",
      "[1] Standard Errors assume that the covariance matrix of the errors is\n",
      "correctly specified.\n"
     ]
    }
   ],
   "source": [
    "dependent_col = ['final_test']\n",
    "independent_col = [x for x in set(df.columns) - set(dependent_col)]\n",
    "\n",
    "# Settings Train / Test Split. \n",
    "from sklearn.model_selection import train_test_split\n",
    "\n",
    "# Splitting into Training and Holdout Test Sets\n",
    "# Ensure stratification for now. We will adjust the ratio only later if required.\n",
    "X_train, X_test, y_train, y_test = train_test_split(df[independent_col], df[dependent_col],\\\n",
    "                                                    stratify=df[dependent_col], test_size=0.2, random_state=121)\n",
    "\n",
    "import statsmodels.api as st\n",
    "X1 = st.add_constant(X_train)\n",
    "lin_model=st.OLS(y_train,X1)\n",
    "result=lin_model.fit()\n",
    "print(result.summary2())"
   ]
  },
  {
   "cell_type": "markdown",
   "metadata": {},
   "source": [
    "From the above linear regression, we can see that:\n",
    "\n",
    "1) Attendance rate has the greatest impact on the student's O level math scores. If we recall earlier, duration of sleep is highly correlated with attendance rate. Hence it can be postulated that the most important predictor for a student's O level math score is duration of sleep which positively correlates with attendance rate and that naturally leads to higher math scores. It could be that duration of sleep has a direct impact on the math score as well.\n",
    "\n",
    "2) Having a CCA (co-curricular activity) regardless of the type of CCA has a negative effect on the student's O level math scores.\n",
    "\n",
    "3) Having a Visual as compared to Auditory learning style has a positive effect on the student's O level math scores\n",
    "\n",
    "4) Naturally, coming from direct_admission into the school reflects a student's higher baseline ability and also correlates well with a higher O level math score.\n",
    "\n",
    "5) Interestingly, having each additional sibling reduces the student's predicted math score by about 5. Presumably since the parent's resources need to be split among more children.\n",
    "\n",
    "6) Also, interestingly, studying for longer actually reduces the students' math score. If we observe the pairwise plot earlier, this could be explained by the highest math scores coming from those who study between 5-10 hours a week. Any longer or shorter seems to correlate with lower scores.\n",
    "\n",
    "7) Further, as expected, having a greater number of classmates of the opposite gender negatively affects O level math scores.\n",
    "\n",
    "8) Lastly, gender doesn't affect the student's O level math scores by much even if it is a statistically significant predictor."
   ]
  },
  {
   "cell_type": "code",
   "execution_count": 398,
   "metadata": {},
   "outputs": [
    {
     "data": {
      "text/html": [
       "<style>#sk-container-id-5 {\n",
       "  /* Definition of color scheme common for light and dark mode */\n",
       "  --sklearn-color-text: black;\n",
       "  --sklearn-color-line: gray;\n",
       "  /* Definition of color scheme for unfitted estimators */\n",
       "  --sklearn-color-unfitted-level-0: #fff5e6;\n",
       "  --sklearn-color-unfitted-level-1: #f6e4d2;\n",
       "  --sklearn-color-unfitted-level-2: #ffe0b3;\n",
       "  --sklearn-color-unfitted-level-3: chocolate;\n",
       "  /* Definition of color scheme for fitted estimators */\n",
       "  --sklearn-color-fitted-level-0: #f0f8ff;\n",
       "  --sklearn-color-fitted-level-1: #d4ebff;\n",
       "  --sklearn-color-fitted-level-2: #b3dbfd;\n",
       "  --sklearn-color-fitted-level-3: cornflowerblue;\n",
       "\n",
       "  /* Specific color for light theme */\n",
       "  --sklearn-color-text-on-default-background: var(--sg-text-color, var(--theme-code-foreground, var(--jp-content-font-color1, black)));\n",
       "  --sklearn-color-background: var(--sg-background-color, var(--theme-background, var(--jp-layout-color0, white)));\n",
       "  --sklearn-color-border-box: var(--sg-text-color, var(--theme-code-foreground, var(--jp-content-font-color1, black)));\n",
       "  --sklearn-color-icon: #696969;\n",
       "\n",
       "  @media (prefers-color-scheme: dark) {\n",
       "    /* Redefinition of color scheme for dark theme */\n",
       "    --sklearn-color-text-on-default-background: var(--sg-text-color, var(--theme-code-foreground, var(--jp-content-font-color1, white)));\n",
       "    --sklearn-color-background: var(--sg-background-color, var(--theme-background, var(--jp-layout-color0, #111)));\n",
       "    --sklearn-color-border-box: var(--sg-text-color, var(--theme-code-foreground, var(--jp-content-font-color1, white)));\n",
       "    --sklearn-color-icon: #878787;\n",
       "  }\n",
       "}\n",
       "\n",
       "#sk-container-id-5 {\n",
       "  color: var(--sklearn-color-text);\n",
       "}\n",
       "\n",
       "#sk-container-id-5 pre {\n",
       "  padding: 0;\n",
       "}\n",
       "\n",
       "#sk-container-id-5 input.sk-hidden--visually {\n",
       "  border: 0;\n",
       "  clip: rect(1px 1px 1px 1px);\n",
       "  clip: rect(1px, 1px, 1px, 1px);\n",
       "  height: 1px;\n",
       "  margin: -1px;\n",
       "  overflow: hidden;\n",
       "  padding: 0;\n",
       "  position: absolute;\n",
       "  width: 1px;\n",
       "}\n",
       "\n",
       "#sk-container-id-5 div.sk-dashed-wrapped {\n",
       "  border: 1px dashed var(--sklearn-color-line);\n",
       "  margin: 0 0.4em 0.5em 0.4em;\n",
       "  box-sizing: border-box;\n",
       "  padding-bottom: 0.4em;\n",
       "  background-color: var(--sklearn-color-background);\n",
       "}\n",
       "\n",
       "#sk-container-id-5 div.sk-container {\n",
       "  /* jupyter's `normalize.less` sets `[hidden] { display: none; }`\n",
       "     but bootstrap.min.css set `[hidden] { display: none !important; }`\n",
       "     so we also need the `!important` here to be able to override the\n",
       "     default hidden behavior on the sphinx rendered scikit-learn.org.\n",
       "     See: https://github.com/scikit-learn/scikit-learn/issues/21755 */\n",
       "  display: inline-block !important;\n",
       "  position: relative;\n",
       "}\n",
       "\n",
       "#sk-container-id-5 div.sk-text-repr-fallback {\n",
       "  display: none;\n",
       "}\n",
       "\n",
       "div.sk-parallel-item,\n",
       "div.sk-serial,\n",
       "div.sk-item {\n",
       "  /* draw centered vertical line to link estimators */\n",
       "  background-image: linear-gradient(var(--sklearn-color-text-on-default-background), var(--sklearn-color-text-on-default-background));\n",
       "  background-size: 2px 100%;\n",
       "  background-repeat: no-repeat;\n",
       "  background-position: center center;\n",
       "}\n",
       "\n",
       "/* Parallel-specific style estimator block */\n",
       "\n",
       "#sk-container-id-5 div.sk-parallel-item::after {\n",
       "  content: \"\";\n",
       "  width: 100%;\n",
       "  border-bottom: 2px solid var(--sklearn-color-text-on-default-background);\n",
       "  flex-grow: 1;\n",
       "}\n",
       "\n",
       "#sk-container-id-5 div.sk-parallel {\n",
       "  display: flex;\n",
       "  align-items: stretch;\n",
       "  justify-content: center;\n",
       "  background-color: var(--sklearn-color-background);\n",
       "  position: relative;\n",
       "}\n",
       "\n",
       "#sk-container-id-5 div.sk-parallel-item {\n",
       "  display: flex;\n",
       "  flex-direction: column;\n",
       "}\n",
       "\n",
       "#sk-container-id-5 div.sk-parallel-item:first-child::after {\n",
       "  align-self: flex-end;\n",
       "  width: 50%;\n",
       "}\n",
       "\n",
       "#sk-container-id-5 div.sk-parallel-item:last-child::after {\n",
       "  align-self: flex-start;\n",
       "  width: 50%;\n",
       "}\n",
       "\n",
       "#sk-container-id-5 div.sk-parallel-item:only-child::after {\n",
       "  width: 0;\n",
       "}\n",
       "\n",
       "/* Serial-specific style estimator block */\n",
       "\n",
       "#sk-container-id-5 div.sk-serial {\n",
       "  display: flex;\n",
       "  flex-direction: column;\n",
       "  align-items: center;\n",
       "  background-color: var(--sklearn-color-background);\n",
       "  padding-right: 1em;\n",
       "  padding-left: 1em;\n",
       "}\n",
       "\n",
       "\n",
       "/* Toggleable style: style used for estimator/Pipeline/ColumnTransformer box that is\n",
       "clickable and can be expanded/collapsed.\n",
       "- Pipeline and ColumnTransformer use this feature and define the default style\n",
       "- Estimators will overwrite some part of the style using the `sk-estimator` class\n",
       "*/\n",
       "\n",
       "/* Pipeline and ColumnTransformer style (default) */\n",
       "\n",
       "#sk-container-id-5 div.sk-toggleable {\n",
       "  /* Default theme specific background. It is overwritten whether we have a\n",
       "  specific estimator or a Pipeline/ColumnTransformer */\n",
       "  background-color: var(--sklearn-color-background);\n",
       "}\n",
       "\n",
       "/* Toggleable label */\n",
       "#sk-container-id-5 label.sk-toggleable__label {\n",
       "  cursor: pointer;\n",
       "  display: block;\n",
       "  width: 100%;\n",
       "  margin-bottom: 0;\n",
       "  padding: 0.5em;\n",
       "  box-sizing: border-box;\n",
       "  text-align: center;\n",
       "}\n",
       "\n",
       "#sk-container-id-5 label.sk-toggleable__label-arrow:before {\n",
       "  /* Arrow on the left of the label */\n",
       "  content: \"▸\";\n",
       "  float: left;\n",
       "  margin-right: 0.25em;\n",
       "  color: var(--sklearn-color-icon);\n",
       "}\n",
       "\n",
       "#sk-container-id-5 label.sk-toggleable__label-arrow:hover:before {\n",
       "  color: var(--sklearn-color-text);\n",
       "}\n",
       "\n",
       "/* Toggleable content - dropdown */\n",
       "\n",
       "#sk-container-id-5 div.sk-toggleable__content {\n",
       "  max-height: 0;\n",
       "  max-width: 0;\n",
       "  overflow: hidden;\n",
       "  text-align: left;\n",
       "  /* unfitted */\n",
       "  background-color: var(--sklearn-color-unfitted-level-0);\n",
       "}\n",
       "\n",
       "#sk-container-id-5 div.sk-toggleable__content.fitted {\n",
       "  /* fitted */\n",
       "  background-color: var(--sklearn-color-fitted-level-0);\n",
       "}\n",
       "\n",
       "#sk-container-id-5 div.sk-toggleable__content pre {\n",
       "  margin: 0.2em;\n",
       "  border-radius: 0.25em;\n",
       "  color: var(--sklearn-color-text);\n",
       "  /* unfitted */\n",
       "  background-color: var(--sklearn-color-unfitted-level-0);\n",
       "}\n",
       "\n",
       "#sk-container-id-5 div.sk-toggleable__content.fitted pre {\n",
       "  /* unfitted */\n",
       "  background-color: var(--sklearn-color-fitted-level-0);\n",
       "}\n",
       "\n",
       "#sk-container-id-5 input.sk-toggleable__control:checked~div.sk-toggleable__content {\n",
       "  /* Expand drop-down */\n",
       "  max-height: 200px;\n",
       "  max-width: 100%;\n",
       "  overflow: auto;\n",
       "}\n",
       "\n",
       "#sk-container-id-5 input.sk-toggleable__control:checked~label.sk-toggleable__label-arrow:before {\n",
       "  content: \"▾\";\n",
       "}\n",
       "\n",
       "/* Pipeline/ColumnTransformer-specific style */\n",
       "\n",
       "#sk-container-id-5 div.sk-label input.sk-toggleable__control:checked~label.sk-toggleable__label {\n",
       "  color: var(--sklearn-color-text);\n",
       "  background-color: var(--sklearn-color-unfitted-level-2);\n",
       "}\n",
       "\n",
       "#sk-container-id-5 div.sk-label.fitted input.sk-toggleable__control:checked~label.sk-toggleable__label {\n",
       "  background-color: var(--sklearn-color-fitted-level-2);\n",
       "}\n",
       "\n",
       "/* Estimator-specific style */\n",
       "\n",
       "/* Colorize estimator box */\n",
       "#sk-container-id-5 div.sk-estimator input.sk-toggleable__control:checked~label.sk-toggleable__label {\n",
       "  /* unfitted */\n",
       "  background-color: var(--sklearn-color-unfitted-level-2);\n",
       "}\n",
       "\n",
       "#sk-container-id-5 div.sk-estimator.fitted input.sk-toggleable__control:checked~label.sk-toggleable__label {\n",
       "  /* fitted */\n",
       "  background-color: var(--sklearn-color-fitted-level-2);\n",
       "}\n",
       "\n",
       "#sk-container-id-5 div.sk-label label.sk-toggleable__label,\n",
       "#sk-container-id-5 div.sk-label label {\n",
       "  /* The background is the default theme color */\n",
       "  color: var(--sklearn-color-text-on-default-background);\n",
       "}\n",
       "\n",
       "/* On hover, darken the color of the background */\n",
       "#sk-container-id-5 div.sk-label:hover label.sk-toggleable__label {\n",
       "  color: var(--sklearn-color-text);\n",
       "  background-color: var(--sklearn-color-unfitted-level-2);\n",
       "}\n",
       "\n",
       "/* Label box, darken color on hover, fitted */\n",
       "#sk-container-id-5 div.sk-label.fitted:hover label.sk-toggleable__label.fitted {\n",
       "  color: var(--sklearn-color-text);\n",
       "  background-color: var(--sklearn-color-fitted-level-2);\n",
       "}\n",
       "\n",
       "/* Estimator label */\n",
       "\n",
       "#sk-container-id-5 div.sk-label label {\n",
       "  font-family: monospace;\n",
       "  font-weight: bold;\n",
       "  display: inline-block;\n",
       "  line-height: 1.2em;\n",
       "}\n",
       "\n",
       "#sk-container-id-5 div.sk-label-container {\n",
       "  text-align: center;\n",
       "}\n",
       "\n",
       "/* Estimator-specific */\n",
       "#sk-container-id-5 div.sk-estimator {\n",
       "  font-family: monospace;\n",
       "  border: 1px dotted var(--sklearn-color-border-box);\n",
       "  border-radius: 0.25em;\n",
       "  box-sizing: border-box;\n",
       "  margin-bottom: 0.5em;\n",
       "  /* unfitted */\n",
       "  background-color: var(--sklearn-color-unfitted-level-0);\n",
       "}\n",
       "\n",
       "#sk-container-id-5 div.sk-estimator.fitted {\n",
       "  /* fitted */\n",
       "  background-color: var(--sklearn-color-fitted-level-0);\n",
       "}\n",
       "\n",
       "/* on hover */\n",
       "#sk-container-id-5 div.sk-estimator:hover {\n",
       "  /* unfitted */\n",
       "  background-color: var(--sklearn-color-unfitted-level-2);\n",
       "}\n",
       "\n",
       "#sk-container-id-5 div.sk-estimator.fitted:hover {\n",
       "  /* fitted */\n",
       "  background-color: var(--sklearn-color-fitted-level-2);\n",
       "}\n",
       "\n",
       "/* Specification for estimator info (e.g. \"i\" and \"?\") */\n",
       "\n",
       "/* Common style for \"i\" and \"?\" */\n",
       "\n",
       ".sk-estimator-doc-link,\n",
       "a:link.sk-estimator-doc-link,\n",
       "a:visited.sk-estimator-doc-link {\n",
       "  float: right;\n",
       "  font-size: smaller;\n",
       "  line-height: 1em;\n",
       "  font-family: monospace;\n",
       "  background-color: var(--sklearn-color-background);\n",
       "  border-radius: 1em;\n",
       "  height: 1em;\n",
       "  width: 1em;\n",
       "  text-decoration: none !important;\n",
       "  margin-left: 1ex;\n",
       "  /* unfitted */\n",
       "  border: var(--sklearn-color-unfitted-level-1) 1pt solid;\n",
       "  color: var(--sklearn-color-unfitted-level-1);\n",
       "}\n",
       "\n",
       ".sk-estimator-doc-link.fitted,\n",
       "a:link.sk-estimator-doc-link.fitted,\n",
       "a:visited.sk-estimator-doc-link.fitted {\n",
       "  /* fitted */\n",
       "  border: var(--sklearn-color-fitted-level-1) 1pt solid;\n",
       "  color: var(--sklearn-color-fitted-level-1);\n",
       "}\n",
       "\n",
       "/* On hover */\n",
       "div.sk-estimator:hover .sk-estimator-doc-link:hover,\n",
       ".sk-estimator-doc-link:hover,\n",
       "div.sk-label-container:hover .sk-estimator-doc-link:hover,\n",
       ".sk-estimator-doc-link:hover {\n",
       "  /* unfitted */\n",
       "  background-color: var(--sklearn-color-unfitted-level-3);\n",
       "  color: var(--sklearn-color-background);\n",
       "  text-decoration: none;\n",
       "}\n",
       "\n",
       "div.sk-estimator.fitted:hover .sk-estimator-doc-link.fitted:hover,\n",
       ".sk-estimator-doc-link.fitted:hover,\n",
       "div.sk-label-container:hover .sk-estimator-doc-link.fitted:hover,\n",
       ".sk-estimator-doc-link.fitted:hover {\n",
       "  /* fitted */\n",
       "  background-color: var(--sklearn-color-fitted-level-3);\n",
       "  color: var(--sklearn-color-background);\n",
       "  text-decoration: none;\n",
       "}\n",
       "\n",
       "/* Span, style for the box shown on hovering the info icon */\n",
       ".sk-estimator-doc-link span {\n",
       "  display: none;\n",
       "  z-index: 9999;\n",
       "  position: relative;\n",
       "  font-weight: normal;\n",
       "  right: .2ex;\n",
       "  padding: .5ex;\n",
       "  margin: .5ex;\n",
       "  width: min-content;\n",
       "  min-width: 20ex;\n",
       "  max-width: 50ex;\n",
       "  color: var(--sklearn-color-text);\n",
       "  box-shadow: 2pt 2pt 4pt #999;\n",
       "  /* unfitted */\n",
       "  background: var(--sklearn-color-unfitted-level-0);\n",
       "  border: .5pt solid var(--sklearn-color-unfitted-level-3);\n",
       "}\n",
       "\n",
       ".sk-estimator-doc-link.fitted span {\n",
       "  /* fitted */\n",
       "  background: var(--sklearn-color-fitted-level-0);\n",
       "  border: var(--sklearn-color-fitted-level-3);\n",
       "}\n",
       "\n",
       ".sk-estimator-doc-link:hover span {\n",
       "  display: block;\n",
       "}\n",
       "\n",
       "/* \"?\"-specific style due to the `<a>` HTML tag */\n",
       "\n",
       "#sk-container-id-5 a.estimator_doc_link {\n",
       "  float: right;\n",
       "  font-size: 1rem;\n",
       "  line-height: 1em;\n",
       "  font-family: monospace;\n",
       "  background-color: var(--sklearn-color-background);\n",
       "  border-radius: 1rem;\n",
       "  height: 1rem;\n",
       "  width: 1rem;\n",
       "  text-decoration: none;\n",
       "  /* unfitted */\n",
       "  color: var(--sklearn-color-unfitted-level-1);\n",
       "  border: var(--sklearn-color-unfitted-level-1) 1pt solid;\n",
       "}\n",
       "\n",
       "#sk-container-id-5 a.estimator_doc_link.fitted {\n",
       "  /* fitted */\n",
       "  border: var(--sklearn-color-fitted-level-1) 1pt solid;\n",
       "  color: var(--sklearn-color-fitted-level-1);\n",
       "}\n",
       "\n",
       "/* On hover */\n",
       "#sk-container-id-5 a.estimator_doc_link:hover {\n",
       "  /* unfitted */\n",
       "  background-color: var(--sklearn-color-unfitted-level-3);\n",
       "  color: var(--sklearn-color-background);\n",
       "  text-decoration: none;\n",
       "}\n",
       "\n",
       "#sk-container-id-5 a.estimator_doc_link.fitted:hover {\n",
       "  /* fitted */\n",
       "  background-color: var(--sklearn-color-fitted-level-3);\n",
       "}\n",
       "</style><div id=\"sk-container-id-5\" class=\"sk-top-container\"><div class=\"sk-text-repr-fallback\"><pre>LinearRegression()</pre><b>In a Jupyter environment, please rerun this cell to show the HTML representation or trust the notebook. <br />On GitHub, the HTML representation is unable to render, please try loading this page with nbviewer.org.</b></div><div class=\"sk-container\" hidden><div class=\"sk-item\"><div class=\"sk-estimator fitted sk-toggleable\"><input class=\"sk-toggleable__control sk-hidden--visually\" id=\"sk-estimator-id-5\" type=\"checkbox\" checked><label for=\"sk-estimator-id-5\" class=\"sk-toggleable__label fitted sk-toggleable__label-arrow fitted\">&nbsp;&nbsp;LinearRegression<a class=\"sk-estimator-doc-link fitted\" rel=\"noreferrer\" target=\"_blank\" href=\"https://scikit-learn.org/1.4/modules/generated/sklearn.linear_model.LinearRegression.html\">?<span>Documentation for LinearRegression</span></a><span class=\"sk-estimator-doc-link fitted\">i<span>Fitted</span></span></label><div class=\"sk-toggleable__content fitted\"><pre>LinearRegression()</pre></div> </div></div></div></div>"
      ],
      "text/plain": [
       "LinearRegression()"
      ]
     },
     "execution_count": 398,
     "metadata": {},
     "output_type": "execute_result"
    }
   ],
   "source": [
    "from sklearn.linear_model import LinearRegression\n",
    "\n",
    "model = LinearRegression()\n",
    "model.fit(X_train, y_train)"
   ]
  },
  {
   "cell_type": "code",
   "execution_count": 399,
   "metadata": {},
   "outputs": [
    {
     "name": "stdout",
     "output_type": "stream",
     "text": [
      "Linear Regression R squared of the test set is: 0.44\n",
      "Linear Regression MSE of the test set is: 0.02\n",
      "Linear Regression RMSE of the test set is: 0.15\n",
      "Linear Regression MAE of the test set is: 0.12\n"
     ]
    }
   ],
   "source": [
    "from sklearn.metrics import mean_squared_error\n",
    "from sklearn.metrics import mean_absolute_error\n",
    "from sklearn.metrics import r2_score\n",
    "\n",
    "# Evaluate model on the test set\n",
    "y_pred= model.predict(X_test)\n",
    "mse = mean_squared_error(y_test, y_pred)\n",
    "\n",
    "print(\"Linear Regression R squared of the test set is: {:.2f}\".format(r2_score(y_test, y_pred)))\n",
    "\n",
    "print(\"Linear Regression MSE of the test set is: {:.2f}\".format(mse))\n",
    "\n",
    "lin_rmse = np.sqrt(mean_squared_error(y_pred, y_test))\n",
    "print(\"Linear Regression RMSE of the test set is: {:.2f}\".format(lin_rmse))\n",
    "\n",
    "print(\"Linear Regression MAE of the test set is: {:.2f}\".format(mean_absolute_error(y_test, y_pred)))"
   ]
  },
  {
   "cell_type": "markdown",
   "metadata": {},
   "source": [
    "Let's now try using a randomforest model which is expected to perform better than a linear regression model. But might be more difficult to explain"
   ]
  },
  {
   "cell_type": "code",
   "execution_count": 400,
   "metadata": {},
   "outputs": [
    {
     "name": "stderr",
     "output_type": "stream",
     "text": [
      "c:\\Users\\User\\Documents\\GitHub\\Projects\\Python\\AIAP_PYS\\myenv\\lib\\site-packages\\sklearn\\base.py:1474: DataConversionWarning: A column-vector y was passed when a 1d array was expected. Please change the shape of y to (n_samples,), for example using ravel().\n",
      "  return fit_method(estimator, *args, **kwargs)\n"
     ]
    }
   ],
   "source": [
    "# Import the model we are using\n",
    "from sklearn.ensemble import RandomForestRegressor\n",
    "# Instantiate model with 1000 decision trees\n",
    "rf = RandomForestRegressor(n_estimators = 1000, random_state = 42)\n",
    "# Train the model on training data\n",
    "rf.fit(X_train, y_train);"
   ]
  },
  {
   "cell_type": "code",
   "execution_count": 401,
   "metadata": {},
   "outputs": [],
   "source": [
    "# Use the forest's predict method on the test data\n",
    "predictions = rf.predict(X_test)"
   ]
  },
  {
   "cell_type": "code",
   "execution_count": 402,
   "metadata": {},
   "outputs": [
    {
     "name": "stdout",
     "output_type": "stream",
     "text": [
      "Random Forest R squared of the test set is: 0.62\n",
      "Random Forest MSE of the test set is: 0.02\n",
      "Random Forest RMSE of the test set is: 0.13\n",
      "Random Forest MAE of the test set is: 0.09\n"
     ]
    }
   ],
   "source": [
    "from sklearn.metrics import mean_squared_error\n",
    "from sklearn.metrics import mean_absolute_error\n",
    "from sklearn.metrics import r2_score\n",
    "\n",
    "# Evaluate model on the test set\n",
    "mse = mean_squared_error(y_test, predictions)\n",
    "\n",
    "print(\"Random Forest R squared of the test set is: {:.2f}\".format(r2_score(y_test, predictions)))\n",
    "\n",
    "print(\"Random Forest MSE of the test set is: {:.2f}\".format(mse))\n",
    "\n",
    "lin_rmse = np.sqrt(mean_squared_error(predictions, y_test))\n",
    "print(\"Random Forest RMSE of the test set is: {:.2f}\".format(lin_rmse))\n",
    "\n",
    "print(\"Random Forest MAE of the test set is: {:.2f}\".format(mean_absolute_error(y_test, predictions)))"
   ]
  },
  {
   "cell_type": "markdown",
   "metadata": {},
   "source": [
    "As expected, the random forest performs better than the linear regression model. 62% of the variance in the O level math scores can be explained by the variance in the predictors as compared to the linear regression's 44%. Furthermore, the error for the random forest model is lower regardless of which error metric is used.\n",
    "\n",
    "Let's see what were the key predictors for the random forest model and how it compares to the linear regression model"
   ]
  },
  {
   "cell_type": "code",
   "execution_count": 403,
   "metadata": {},
   "outputs": [
    {
     "name": "stdout",
     "output_type": "stream",
     "text": [
      "Variable: number_of_siblings   Importance: 0.24\n",
      "Variable: hours_per_week       Importance: 0.21\n",
      "Variable: attendance_rate      Importance: 0.19\n",
      "Variable: n_oppgender          Importance: 0.11\n",
      "Variable: direct_admission_Yes Importance: 0.09\n",
      "Variable: learning_style_Visual Importance: 0.04\n",
      "Variable: tuition_Yes          Importance: 0.04\n",
      "Variable: CCA_arts             Importance: 0.02\n",
      "Variable: gender_Male          Importance: 0.02\n",
      "Variable: CCA_clubs            Importance: 0.02\n",
      "Variable: CCA_sports           Importance: 0.01\n"
     ]
    }
   ],
   "source": [
    "# Get numerical feature importances\n",
    "importances = list(rf.feature_importances_)\n",
    "# List of tuples with variable and importance\n",
    "feature_importances = [(feature, round(importance, 2)) for feature, importance in zip(independent_col, importances)]\n",
    "# Sort the feature importances by most important first\n",
    "feature_importances = sorted(feature_importances, key = lambda x: x[1], reverse = True)\n",
    "# Print out the feature and importances \n",
    "[print('Variable: {:20} Importance: {}'.format(*pair)) for pair in feature_importances];"
   ]
  },
  {
   "cell_type": "code",
   "execution_count": 403,
   "metadata": {},
   "outputs": [
    {
     "data": {
      "image/png": "[encoded data removed]",
      "text/plain": [
       "<Figure size 640x480 with 1 Axes>"
      ]
     },
     "metadata": {},
     "output_type": "display_data"
    }
   ],
   "source": [
    "# Import matplotlib for plotting and use magic command for Jupyter Notebooks\n",
    "import matplotlib.pyplot as plt\n",
    "%matplotlib inline\n",
    "# Set the style\n",
    "plt.style.use('seaborn-v0_8-pastel')\n",
    "# list of x locations for plotting\n",
    "x_values = list(range(len(importances)))\n",
    "\n",
    "#sort values by importance\n",
    "i = sorted([(a,b) for a,b in zip(importances,independent_col)],key = lambda x:-x[0])\n",
    "# Make a bar chart\n",
    "plt.bar(x_values, [x[0] for x in i], orientation = 'vertical')\n",
    "# Tick labels for x axis\n",
    "plt.xticks(x_values, [x[1] for x in i], rotation='vertical')\n",
    "# Axis labels and title\n",
    "plt.ylabel('Importance'); plt.xlabel('Variable'); plt.title('Variable Importance');"
   ]
  },
  {
   "cell_type": "markdown",
   "metadata": {},
   "source": [
    "Interestingly, in the random forest model, the importance of attendance rate drops and instead, number of hours studied per week and number of siblings the student is more important!"
   ]
  },
  {
   "cell_type": "markdown",
   "metadata": {},
   "source": [
    "### Future research\n",
    "\n",
    "In this analysis, only the O level math scores were used as the dependent variable, future research could be done to see if different subjects would lead to different results.\n",
    "\n",
    "Furthermore, given that some of the relationships between the dependent and independent variables do not look linear, perhaps pre-treating the variables with either a logistic or boxcox transformation might help."
   ]
  },
  {
   "cell_type": "markdown",
   "metadata": {},
   "source": [
    "References:\n",
    "1. https://www.sqlitetutorial.net/sqlite-python/sqlite-python-select/\n",
    "2. https://medium.com/@ugursavci/complete-exploratory-data-analysis-using-python-9f685d67d1e4\n",
    "3. https://medium.com/@dilip.voleti/multicollinearity-in-machine-learning-26d652b183de\n",
    "4. https://medium.com/data-and-beyond/mastering-exploratory-data-analysis-eda-everything-you-need-to-know-7e3b48d63a95\n",
    "5. https://medium.com/@redwaneaitouammi/11-predicting-house-prices-using-linear-regression-python-example-5697fff7f1a4\n",
    "6. https://medium.com/@polanitzer/building-a-linear-regression-in-python-step-by-step-94caeb0a4f18\n",
    "7. https://towardsdatascience.com/random-forest-in-python-24d0893d51c0"
   ]
  },
  {
   "cell_type": "code",
   "execution_count": 404,
   "metadata": {},
   "outputs": [],
   "source": [
    "#Other models which I didn't have time to complete\n",
    "\n",
    "# From Standard Scaler for Numerical Columns (when necessary) Eg. Logistic Regression\n",
    "from sklearn.preprocessing import StandardScaler\n",
    "from sklearn.compose import ColumnTransformer\n",
    "\n",
    "numeric_col = ['number_of_siblings','n_oppgender', 'hours_per_week', 'attendance_rate']\n",
    "\n",
    "preprocessor = ColumnTransformer(\\\n",
    "    transformers=[('num', StandardScaler(), numeric_col)],\\\n",
    "    remainder='passthrough') # Pass through categorical features unchanged\n",
    "\n",
    "X_train_transformed = preprocessor.fit_transform(X_train)\n",
    "X_train_transformed_df = pd.DataFrame(X_train_transformed, columns=independent_col)\n",
    "X_test_transformed = preprocessor.fit_transform(X_test)\n",
    "X_test_transformed_df = pd.DataFrame(X_test_transformed, columns=independent_col)\n",
    "y_train_transformed = y_train.values.ravel()\n",
    "y_test_transformed = y_test.values.ravel()"
   ]
  }
 ],
 "metadata": {
  "kernelspec": {
   "display_name": "myenv",
   "language": "python",
   "name": "python3"
  },
  "language_info": {
   "codemirror_mode": {
    "name": "ipython",
    "version": 3
   },
   "file_extension": ".py",
   "mimetype": "text/x-python",
   "name": "python",
   "nbconvert_exporter": "python",
   "pygments_lexer": "ipython3",
   "version": "3.10.8"
  }
 },
 "nbformat": 4,
 "nbformat_minor": 2
}
