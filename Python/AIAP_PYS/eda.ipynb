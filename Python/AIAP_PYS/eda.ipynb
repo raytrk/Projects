{
 "cells": [
  {
   "cell_type": "markdown",
   "metadata": {},
   "source": [
    "### This project aims to predict student's O level results based on certain baseline characteristics"
   ]
  },
  {
   "cell_type": "markdown",
   "metadata": {},
   "source": [
    "### Description of attributes in the table:\n",
    "\n",
    "|Attribute | Description |\n",
    "| --- | --- |\n",
    "student_id | Unique ID for each student\n",
    "number_of_siblings | Number of siblings\n",
    "direct_admission |Mode of entering the school\n",
    "CCA |Enrolled CCA\n",
    "learning_style |Primary learning style\n",
    "tuition |Indication of whether the student has a tuition\n",
    "final_test |Student’s O-level mathematics examination score\n",
    "n_male |Number of male classmates\n",
    "n_female| Number of female classmates\n",
    "gender |Gender type\n",
    "age |Age of the student\n",
    "hours_per_week |Number of hours student studies per week\n",
    "attendance_rate |Attendance rate of the student (%)\n",
    "sleep_time |Daily sleeping time (hour:minutes)\n",
    "wake_time |Daily waking up time (hour:minutes)\n",
    "mode_of_transport |Mode of transport to school\n",
    "bag_color |Colour of student’s bag"
   ]
  },
  {
   "cell_type": "markdown",
   "metadata": {},
   "source": [
    "I postulate that the following variables will have a positive correlation with the O level math test scores:\n",
    "1. Duration of sleep\n",
    "2. Number of hours student studies per week\n",
    "3. Attendance rate of the student\n",
    "4. If the student has tuition\n",
    "5. Male gender\n",
    "\n",
    "I postulate that the following variables will have a negative correlation with the O level math test scores:\n",
    "1. If the student is from a sports CCA\n",
    "2. If the patient is from a direct_admission (i.e. not by grades but by other skills like sports)\n",
    "3. Number of siblings\n",
    "4. Number of classmates of the opposite gender\n",
    "\n",
    "I postulate that the following variables will have no impact on O level math test scores:\n",
    "1. Student's bag colour\n",
    "2. Learning style\n",
    "3. Mode of transport to school"
   ]
  },
  {
   "cell_type": "code",
   "execution_count": 220,
   "metadata": {},
   "outputs": [],
   "source": [
    "#Access database\n",
    "\n",
    "import sqlite3, pandas as pd, numpy as np\n",
    "import seaborn as sns\n",
    "import matplotlib.pyplot as plt\n",
    "\n",
    "#from Ipython.display import display\n",
    "\n",
    "db_file = r\"data\\score.db\"\n",
    "conn = None\n",
    "try:\n",
    "    conn = sqlite3.connect(db_file)\n",
    "except sqlite3.Error as e:\n",
    "    print(e)"
   ]
  },
  {
   "cell_type": "code",
   "execution_count": 221,
   "metadata": {},
   "outputs": [
    {
     "data": {
      "text/html": [
       "<div>\n",
       "<style scoped>\n",
       "    .dataframe tbody tr th:only-of-type {\n",
       "        vertical-align: middle;\n",
       "    }\n",
       "\n",
       "    .dataframe tbody tr th {\n",
       "        vertical-align: top;\n",
       "    }\n",
       "\n",
       "    .dataframe thead th {\n",
       "        text-align: right;\n",
       "    }\n",
       "</style>\n",
       "<table border=\"1\" class=\"dataframe\">\n",
       "  <thead>\n",
       "    <tr style=\"text-align: right;\">\n",
       "      <th></th>\n",
       "      <th>name</th>\n",
       "    </tr>\n",
       "  </thead>\n",
       "  <tbody>\n",
       "    <tr>\n",
       "      <th>0</th>\n",
       "      <td>score</td>\n",
       "    </tr>\n",
       "  </tbody>\n",
       "</table>\n",
       "</div>"
      ],
      "text/plain": [
       "    name\n",
       "0  score"
      ]
     },
     "execution_count": 221,
     "metadata": {},
     "output_type": "execute_result"
    }
   ],
   "source": [
    "#Find the Table Names in the database\n",
    "query = '''\n",
    "    SELECT name FROM sqlite_master WHERE type='table' ORDER BY name\n",
    "    '''\n",
    "tables = pd.read_sql_query(query, conn)\n",
    "tables"
   ]
  },
  {
   "cell_type": "code",
   "execution_count": 222,
   "metadata": {},
   "outputs": [],
   "source": [
    "#Load the score table into a DataFrame\n",
    "\n",
    "query = '''\n",
    "    SELECT * FROM score\n",
    "    '''\n",
    "df = pd.read_sql_query(query, conn)"
   ]
  },
  {
   "cell_type": "code",
   "execution_count": 223,
   "metadata": {},
   "outputs": [
    {
     "data": {
      "text/plain": [
       "(15900, 18)"
      ]
     },
     "execution_count": 223,
     "metadata": {},
     "output_type": "execute_result"
    }
   ],
   "source": [
    "df.shape"
   ]
  },
  {
   "cell_type": "markdown",
   "metadata": {},
   "source": [
    "There are 18 observations and 18 variables in the score table"
   ]
  },
  {
   "cell_type": "code",
   "execution_count": 224,
   "metadata": {},
   "outputs": [
    {
     "data": {
      "text/html": [
       "<div>\n",
       "<style scoped>\n",
       "    .dataframe tbody tr th:only-of-type {\n",
       "        vertical-align: middle;\n",
       "    }\n",
       "\n",
       "    .dataframe tbody tr th {\n",
       "        vertical-align: top;\n",
       "    }\n",
       "\n",
       "    .dataframe thead th {\n",
       "        text-align: right;\n",
       "    }\n",
       "</style>\n",
       "<table border=\"1\" class=\"dataframe\">\n",
       "  <thead>\n",
       "    <tr style=\"text-align: right;\">\n",
       "      <th></th>\n",
       "      <th>index</th>\n",
       "      <th>number_of_siblings</th>\n",
       "      <th>direct_admission</th>\n",
       "      <th>CCA</th>\n",
       "      <th>learning_style</th>\n",
       "      <th>student_id</th>\n",
       "      <th>gender</th>\n",
       "      <th>tuition</th>\n",
       "      <th>final_test</th>\n",
       "      <th>n_male</th>\n",
       "      <th>n_female</th>\n",
       "      <th>age</th>\n",
       "      <th>hours_per_week</th>\n",
       "      <th>attendance_rate</th>\n",
       "      <th>sleep_time</th>\n",
       "      <th>wake_time</th>\n",
       "      <th>mode_of_transport</th>\n",
       "      <th>bag_color</th>\n",
       "    </tr>\n",
       "  </thead>\n",
       "  <tbody>\n",
       "    <tr>\n",
       "      <th>0</th>\n",
       "      <td>0</td>\n",
       "      <td>0</td>\n",
       "      <td>Yes</td>\n",
       "      <td>Sports</td>\n",
       "      <td>Visual</td>\n",
       "      <td>ACN2BE</td>\n",
       "      <td>Female</td>\n",
       "      <td>No</td>\n",
       "      <td>69.0</td>\n",
       "      <td>14.0</td>\n",
       "      <td>2.0</td>\n",
       "      <td>16.0</td>\n",
       "      <td>10.0</td>\n",
       "      <td>91.0</td>\n",
       "      <td>22:00</td>\n",
       "      <td>6:00</td>\n",
       "      <td>private transport</td>\n",
       "      <td>yellow</td>\n",
       "    </tr>\n",
       "    <tr>\n",
       "      <th>1</th>\n",
       "      <td>1</td>\n",
       "      <td>2</td>\n",
       "      <td>No</td>\n",
       "      <td>Sports</td>\n",
       "      <td>Auditory</td>\n",
       "      <td>FGXIIZ</td>\n",
       "      <td>Female</td>\n",
       "      <td>No</td>\n",
       "      <td>47.0</td>\n",
       "      <td>4.0</td>\n",
       "      <td>19.0</td>\n",
       "      <td>16.0</td>\n",
       "      <td>7.0</td>\n",
       "      <td>94.0</td>\n",
       "      <td>22:30</td>\n",
       "      <td>6:30</td>\n",
       "      <td>private transport</td>\n",
       "      <td>green</td>\n",
       "    </tr>\n",
       "    <tr>\n",
       "      <th>2</th>\n",
       "      <td>2</td>\n",
       "      <td>0</td>\n",
       "      <td>Yes</td>\n",
       "      <td>None</td>\n",
       "      <td>Visual</td>\n",
       "      <td>B9AI9F</td>\n",
       "      <td>Male</td>\n",
       "      <td>No</td>\n",
       "      <td>85.0</td>\n",
       "      <td>14.0</td>\n",
       "      <td>2.0</td>\n",
       "      <td>15.0</td>\n",
       "      <td>8.0</td>\n",
       "      <td>92.0</td>\n",
       "      <td>22:30</td>\n",
       "      <td>6:30</td>\n",
       "      <td>private transport</td>\n",
       "      <td>white</td>\n",
       "    </tr>\n",
       "    <tr>\n",
       "      <th>3</th>\n",
       "      <td>3</td>\n",
       "      <td>1</td>\n",
       "      <td>No</td>\n",
       "      <td>Clubs</td>\n",
       "      <td>Auditory</td>\n",
       "      <td>FEVM1T</td>\n",
       "      <td>Female</td>\n",
       "      <td>Yes</td>\n",
       "      <td>64.0</td>\n",
       "      <td>2.0</td>\n",
       "      <td>20.0</td>\n",
       "      <td>15.0</td>\n",
       "      <td>18.0</td>\n",
       "      <td>NaN</td>\n",
       "      <td>21:00</td>\n",
       "      <td>5:00</td>\n",
       "      <td>public transport</td>\n",
       "      <td>yellow</td>\n",
       "    </tr>\n",
       "    <tr>\n",
       "      <th>4</th>\n",
       "      <td>4</td>\n",
       "      <td>0</td>\n",
       "      <td>No</td>\n",
       "      <td>Sports</td>\n",
       "      <td>Auditory</td>\n",
       "      <td>AXZN2E</td>\n",
       "      <td>Male</td>\n",
       "      <td>No</td>\n",
       "      <td>66.0</td>\n",
       "      <td>24.0</td>\n",
       "      <td>3.0</td>\n",
       "      <td>16.0</td>\n",
       "      <td>7.0</td>\n",
       "      <td>95.0</td>\n",
       "      <td>21:30</td>\n",
       "      <td>5:30</td>\n",
       "      <td>public transport</td>\n",
       "      <td>yellow</td>\n",
       "    </tr>\n",
       "  </tbody>\n",
       "</table>\n",
       "</div>"
      ],
      "text/plain": [
       "   index  number_of_siblings direct_admission     CCA learning_style  \\\n",
       "0      0                   0              Yes  Sports         Visual   \n",
       "1      1                   2               No  Sports       Auditory   \n",
       "2      2                   0              Yes    None         Visual   \n",
       "3      3                   1               No   Clubs       Auditory   \n",
       "4      4                   0               No  Sports       Auditory   \n",
       "\n",
       "  student_id  gender tuition  final_test  n_male  n_female   age  \\\n",
       "0     ACN2BE  Female      No        69.0    14.0       2.0  16.0   \n",
       "1     FGXIIZ  Female      No        47.0     4.0      19.0  16.0   \n",
       "2     B9AI9F    Male      No        85.0    14.0       2.0  15.0   \n",
       "3     FEVM1T  Female     Yes        64.0     2.0      20.0  15.0   \n",
       "4     AXZN2E    Male      No        66.0    24.0       3.0  16.0   \n",
       "\n",
       "   hours_per_week  attendance_rate sleep_time wake_time  mode_of_transport  \\\n",
       "0            10.0             91.0      22:00      6:00  private transport   \n",
       "1             7.0             94.0      22:30      6:30  private transport   \n",
       "2             8.0             92.0      22:30      6:30  private transport   \n",
       "3            18.0              NaN      21:00      5:00   public transport   \n",
       "4             7.0             95.0      21:30      5:30   public transport   \n",
       "\n",
       "  bag_color  \n",
       "0    yellow  \n",
       "1     green  \n",
       "2     white  \n",
       "3    yellow  \n",
       "4    yellow  "
      ]
     },
     "execution_count": 224,
     "metadata": {},
     "output_type": "execute_result"
    }
   ],
   "source": [
    "#Explore the score table\n",
    "df.head()"
   ]
  },
  {
   "cell_type": "markdown",
   "metadata": {},
   "source": [
    "Noted that there is an index column, without which, there are 16 independent variables and 1 dependent variable (final_test)\n",
    "\n",
    "Let's drop the index column"
   ]
  },
  {
   "cell_type": "code",
   "execution_count": 225,
   "metadata": {},
   "outputs": [],
   "source": [
    "df.drop(columns = 'index', inplace = True)"
   ]
  },
  {
   "cell_type": "code",
   "execution_count": 226,
   "metadata": {},
   "outputs": [
    {
     "name": "stdout",
     "output_type": "stream",
     "text": [
      "<class 'pandas.core.frame.DataFrame'>\n",
      "RangeIndex: 15900 entries, 0 to 15899\n",
      "Data columns (total 17 columns):\n",
      " #   Column              Non-Null Count  Dtype  \n",
      "---  ------              --------------  -----  \n",
      " 0   number_of_siblings  15900 non-null  int64  \n",
      " 1   direct_admission    15900 non-null  object \n",
      " 2   CCA                 15900 non-null  object \n",
      " 3   learning_style      15900 non-null  object \n",
      " 4   student_id          15900 non-null  object \n",
      " 5   gender              15900 non-null  object \n",
      " 6   tuition             15900 non-null  object \n",
      " 7   final_test          15405 non-null  float64\n",
      " 8   n_male              15900 non-null  float64\n",
      " 9   n_female            15900 non-null  float64\n",
      " 10  age                 15900 non-null  float64\n",
      " 11  hours_per_week      15900 non-null  float64\n",
      " 12  attendance_rate     15122 non-null  float64\n",
      " 13  sleep_time          15900 non-null  object \n",
      " 14  wake_time           15900 non-null  object \n",
      " 15  mode_of_transport   15900 non-null  object \n",
      " 16  bag_color           15900 non-null  object \n",
      "dtypes: float64(6), int64(1), object(10)\n",
      "memory usage: 2.1+ MB\n"
     ]
    }
   ],
   "source": [
    "#Explore the score table\n",
    "df.info()"
   ]
  },
  {
   "cell_type": "markdown",
   "metadata": {},
   "source": [
    "\"number of siblings\" is the only integer variable among the numerical variables\n",
    "And there a few columns with null values"
   ]
  },
  {
   "cell_type": "code",
   "execution_count": 227,
   "metadata": {},
   "outputs": [
    {
     "data": {
      "text/html": [
       "<div>\n",
       "<style scoped>\n",
       "    .dataframe tbody tr th:only-of-type {\n",
       "        vertical-align: middle;\n",
       "    }\n",
       "\n",
       "    .dataframe tbody tr th {\n",
       "        vertical-align: top;\n",
       "    }\n",
       "\n",
       "    .dataframe thead th {\n",
       "        text-align: right;\n",
       "    }\n",
       "</style>\n",
       "<table border=\"1\" class=\"dataframe\">\n",
       "  <thead>\n",
       "    <tr style=\"text-align: right;\">\n",
       "      <th></th>\n",
       "      <th>number_of_siblings</th>\n",
       "      <th>final_test</th>\n",
       "      <th>n_male</th>\n",
       "      <th>n_female</th>\n",
       "      <th>age</th>\n",
       "      <th>hours_per_week</th>\n",
       "      <th>attendance_rate</th>\n",
       "    </tr>\n",
       "  </thead>\n",
       "  <tbody>\n",
       "    <tr>\n",
       "      <th>count</th>\n",
       "      <td>15900.000000</td>\n",
       "      <td>15405.000000</td>\n",
       "      <td>15900.000000</td>\n",
       "      <td>15900.000000</td>\n",
       "      <td>15900.000000</td>\n",
       "      <td>15900.000000</td>\n",
       "      <td>15122.000000</td>\n",
       "    </tr>\n",
       "    <tr>\n",
       "      <th>mean</th>\n",
       "      <td>0.886541</td>\n",
       "      <td>67.165401</td>\n",
       "      <td>13.880000</td>\n",
       "      <td>8.906038</td>\n",
       "      <td>15.213459</td>\n",
       "      <td>10.312579</td>\n",
       "      <td>93.270268</td>\n",
       "    </tr>\n",
       "    <tr>\n",
       "      <th>std</th>\n",
       "      <td>0.751346</td>\n",
       "      <td>13.977879</td>\n",
       "      <td>6.552584</td>\n",
       "      <td>6.663852</td>\n",
       "      <td>1.758941</td>\n",
       "      <td>4.461861</td>\n",
       "      <td>7.984230</td>\n",
       "    </tr>\n",
       "    <tr>\n",
       "      <th>min</th>\n",
       "      <td>0.000000</td>\n",
       "      <td>32.000000</td>\n",
       "      <td>0.000000</td>\n",
       "      <td>0.000000</td>\n",
       "      <td>-5.000000</td>\n",
       "      <td>0.000000</td>\n",
       "      <td>40.000000</td>\n",
       "    </tr>\n",
       "    <tr>\n",
       "      <th>25%</th>\n",
       "      <td>0.000000</td>\n",
       "      <td>56.000000</td>\n",
       "      <td>10.000000</td>\n",
       "      <td>4.000000</td>\n",
       "      <td>15.000000</td>\n",
       "      <td>7.000000</td>\n",
       "      <td>92.000000</td>\n",
       "    </tr>\n",
       "    <tr>\n",
       "      <th>50%</th>\n",
       "      <td>1.000000</td>\n",
       "      <td>68.000000</td>\n",
       "      <td>14.000000</td>\n",
       "      <td>8.000000</td>\n",
       "      <td>15.000000</td>\n",
       "      <td>9.000000</td>\n",
       "      <td>95.000000</td>\n",
       "    </tr>\n",
       "    <tr>\n",
       "      <th>75%</th>\n",
       "      <td>1.000000</td>\n",
       "      <td>78.000000</td>\n",
       "      <td>18.000000</td>\n",
       "      <td>13.000000</td>\n",
       "      <td>16.000000</td>\n",
       "      <td>14.000000</td>\n",
       "      <td>97.000000</td>\n",
       "    </tr>\n",
       "    <tr>\n",
       "      <th>max</th>\n",
       "      <td>2.000000</td>\n",
       "      <td>100.000000</td>\n",
       "      <td>31.000000</td>\n",
       "      <td>31.000000</td>\n",
       "      <td>16.000000</td>\n",
       "      <td>20.000000</td>\n",
       "      <td>100.000000</td>\n",
       "    </tr>\n",
       "  </tbody>\n",
       "</table>\n",
       "</div>"
      ],
      "text/plain": [
       "       number_of_siblings    final_test        n_male      n_female  \\\n",
       "count        15900.000000  15405.000000  15900.000000  15900.000000   \n",
       "mean             0.886541     67.165401     13.880000      8.906038   \n",
       "std              0.751346     13.977879      6.552584      6.663852   \n",
       "min              0.000000     32.000000      0.000000      0.000000   \n",
       "25%              0.000000     56.000000     10.000000      4.000000   \n",
       "50%              1.000000     68.000000     14.000000      8.000000   \n",
       "75%              1.000000     78.000000     18.000000     13.000000   \n",
       "max              2.000000    100.000000     31.000000     31.000000   \n",
       "\n",
       "                age  hours_per_week  attendance_rate  \n",
       "count  15900.000000    15900.000000     15122.000000  \n",
       "mean      15.213459       10.312579        93.270268  \n",
       "std        1.758941        4.461861         7.984230  \n",
       "min       -5.000000        0.000000        40.000000  \n",
       "25%       15.000000        7.000000        92.000000  \n",
       "50%       15.000000        9.000000        95.000000  \n",
       "75%       16.000000       14.000000        97.000000  \n",
       "max       16.000000       20.000000       100.000000  "
      ]
     },
     "execution_count": 227,
     "metadata": {},
     "output_type": "execute_result"
    }
   ],
   "source": [
    "#Explore the score table\n",
    "df.describe()"
   ]
  },
  {
   "cell_type": "markdown",
   "metadata": {},
   "source": [
    "Of which 7 (not counting the index column) are quantitative variables\n",
    "\n",
    "And looks like we have some outliers in the age column where the minimum cannot be negative, that's something to look out for"
   ]
  },
  {
   "cell_type": "code",
   "execution_count": 228,
   "metadata": {},
   "outputs": [
    {
     "data": {
      "image/png": "[encoded data removed]",
      "text/plain": [
       "<Figure size 600x300 with 1 Axes>"
      ]
     },
     "metadata": {},
     "output_type": "display_data"
    }
   ],
   "source": [
    "\n",
    "plt.figure(figsize=(6,3))\n",
    "sns.histplot(df.age,color='r')\n",
    "plt.title('Age Distribution',size=18)\n",
    "plt.xlabel('Age',size=14)\n",
    "plt.ylabel('Density',size=14)\n",
    "plt.show()"
   ]
  },
  {
   "cell_type": "markdown",
   "metadata": {},
   "source": [
    "Looks like most of the students are 15 and 16 years old. Let's see how many of them are not in this age range"
   ]
  },
  {
   "cell_type": "code",
   "execution_count": 229,
   "metadata": {},
   "outputs": [
    {
     "data": {
      "text/plain": [
       "Counter({15.0: 7726, 16.0: 7723, 6.0: 230, 5.0: 216, -5.0: 4, -4.0: 1})"
      ]
     },
     "execution_count": 229,
     "metadata": {},
     "output_type": "execute_result"
    }
   ],
   "source": [
    "from collections import Counter\n",
    "\n",
    "count = Counter(df.age)\n",
    "count"
   ]
  },
  {
   "cell_type": "markdown",
   "metadata": {},
   "source": [
    "Looks like there are 2 groups of students, those 15-16yo and those 5-6yo. But since we are looking at O level math exam scores, it doesn't make sense for 5-6year olds to be taking these exams. It is more likely that these ages have been recorded wrongly with a missing 1 in front of them i.e. 5 year old should actually be 15 year old.\n",
    "\n",
    "Hence, records with ages 5/6 will be amended to 15/16 respectively.\n",
    "\n",
    "Records with Negative ages will be removed since they are insignficant (only 5 records out of 15.9k)"
   ]
  },
  {
   "cell_type": "code",
   "execution_count": 230,
   "metadata": {},
   "outputs": [],
   "source": [
    "#Remove records with negative ages\n",
    "df = df[df.age > 0]"
   ]
  },
  {
   "cell_type": "code",
   "execution_count": 231,
   "metadata": {},
   "outputs": [
    {
     "data": {
      "text/plain": [
       "Counter({16.0: 7953, 15.0: 7942})"
      ]
     },
     "execution_count": 231,
     "metadata": {},
     "output_type": "execute_result"
    }
   ],
   "source": [
    "#Amend records with ages 5/6\n",
    "df.age = df.age.where(df.age > 6, other = df.age + 10)\n",
    "count = Counter(df.age)\n",
    "count"
   ]
  },
  {
   "cell_type": "code",
   "execution_count": 232,
   "metadata": {},
   "outputs": [
    {
     "data": {
      "text/plain": [
       "number_of_siblings      0\n",
       "direct_admission        0\n",
       "CCA                     0\n",
       "learning_style          0\n",
       "student_id              0\n",
       "gender                  0\n",
       "tuition                 0\n",
       "final_test            495\n",
       "n_male                  0\n",
       "n_female                0\n",
       "age                     0\n",
       "hours_per_week          0\n",
       "attendance_rate       778\n",
       "sleep_time              0\n",
       "wake_time               0\n",
       "mode_of_transport       0\n",
       "bag_color               0\n",
       "dtype: int64"
      ]
     },
     "execution_count": 232,
     "metadata": {},
     "output_type": "execute_result"
    }
   ],
   "source": [
    "#Check for null values\n",
    "df.isnull().sum()"
   ]
  },
  {
   "cell_type": "markdown",
   "metadata": {},
   "source": [
    "Final_test and attendance_rate have null values, we will need to find a way to manage these null values"
   ]
  },
  {
   "cell_type": "code",
   "execution_count": 233,
   "metadata": {},
   "outputs": [
    {
     "name": "stdout",
     "output_type": "stream",
     "text": [
      "Ratio of null values in the final_test column:  0.03214285714285714\n",
      "Ratio of null values in the attendance_rate column:  0.051465237811735134\n",
      "Ratio of null values in any column:  0.07876690783265178\n"
     ]
    }
   ],
   "source": [
    "print('Ratio of null values in the final_test column: ', df['final_test'].isnull().sum()/df['final_test'].count())\n",
    "print('Ratio of null values in the attendance_rate column: ', df['attendance_rate'].isnull().sum()/df['attendance_rate'].count())\n",
    "print('Ratio of null values in any column: ', df.isnull().any(axis = 1).sum()/df.shape[0])"
   ]
  },
  {
   "cell_type": "markdown",
   "metadata": {},
   "source": [
    "Since the number of rows with missing values < 10%, it is likely insignificant and i will be removing these rows\n",
    "\n",
    "We will explore these after the main analysis"
   ]
  },
  {
   "cell_type": "code",
   "execution_count": 234,
   "metadata": {},
   "outputs": [
    {
     "data": {
      "text/plain": [
       "number_of_siblings    0\n",
       "direct_admission      0\n",
       "CCA                   0\n",
       "learning_style        0\n",
       "student_id            0\n",
       "gender                0\n",
       "tuition               0\n",
       "final_test            0\n",
       "n_male                0\n",
       "n_female              0\n",
       "age                   0\n",
       "hours_per_week        0\n",
       "attendance_rate       0\n",
       "sleep_time            0\n",
       "wake_time             0\n",
       "mode_of_transport     0\n",
       "bag_color             0\n",
       "dtype: int64"
      ]
     },
     "execution_count": 234,
     "metadata": {},
     "output_type": "execute_result"
    }
   ],
   "source": [
    "#Remove rows with null values\n",
    "df = df[~df.isnull().any(axis = 1)]\n",
    "df.isnull().sum() #check if it has been implemented correctly"
   ]
  },
  {
   "cell_type": "code",
   "execution_count": 235,
   "metadata": {},
   "outputs": [
    {
     "data": {
      "text/html": [
       "<div>\n",
       "<style scoped>\n",
       "    .dataframe tbody tr th:only-of-type {\n",
       "        vertical-align: middle;\n",
       "    }\n",
       "\n",
       "    .dataframe tbody tr th {\n",
       "        vertical-align: top;\n",
       "    }\n",
       "\n",
       "    .dataframe thead th {\n",
       "        text-align: right;\n",
       "    }\n",
       "</style>\n",
       "<table border=\"1\" class=\"dataframe\">\n",
       "  <thead>\n",
       "    <tr style=\"text-align: right;\">\n",
       "      <th></th>\n",
       "      <th>number_of_siblings</th>\n",
       "      <th>direct_admission</th>\n",
       "      <th>CCA</th>\n",
       "      <th>learning_style</th>\n",
       "      <th>student_id</th>\n",
       "      <th>gender</th>\n",
       "      <th>tuition</th>\n",
       "      <th>final_test</th>\n",
       "      <th>n_male</th>\n",
       "      <th>n_female</th>\n",
       "      <th>age</th>\n",
       "      <th>hours_per_week</th>\n",
       "      <th>attendance_rate</th>\n",
       "      <th>sleep_time</th>\n",
       "      <th>wake_time</th>\n",
       "      <th>mode_of_transport</th>\n",
       "      <th>bag_color</th>\n",
       "    </tr>\n",
       "  </thead>\n",
       "  <tbody>\n",
       "    <tr>\n",
       "      <th>1532</th>\n",
       "      <td>1</td>\n",
       "      <td>No</td>\n",
       "      <td>Sports</td>\n",
       "      <td>Auditory</td>\n",
       "      <td>1R0VBB</td>\n",
       "      <td>Female</td>\n",
       "      <td>Yes</td>\n",
       "      <td>67.0</td>\n",
       "      <td>12.0</td>\n",
       "      <td>16.0</td>\n",
       "      <td>15.0</td>\n",
       "      <td>8.0</td>\n",
       "      <td>99.0</td>\n",
       "      <td>21:30</td>\n",
       "      <td>5:30</td>\n",
       "      <td>public transport</td>\n",
       "      <td>red</td>\n",
       "    </tr>\n",
       "    <tr>\n",
       "      <th>1770</th>\n",
       "      <td>2</td>\n",
       "      <td>No</td>\n",
       "      <td>Sports</td>\n",
       "      <td>Auditory</td>\n",
       "      <td>D4KBX7</td>\n",
       "      <td>Male</td>\n",
       "      <td>Yes</td>\n",
       "      <td>56.0</td>\n",
       "      <td>11.0</td>\n",
       "      <td>7.0</td>\n",
       "      <td>16.0</td>\n",
       "      <td>15.0</td>\n",
       "      <td>94.0</td>\n",
       "      <td>22:30</td>\n",
       "      <td>6:30</td>\n",
       "      <td>private transport</td>\n",
       "      <td>green</td>\n",
       "    </tr>\n",
       "    <tr>\n",
       "      <th>2098</th>\n",
       "      <td>2</td>\n",
       "      <td>No</td>\n",
       "      <td>Sports</td>\n",
       "      <td>Auditory</td>\n",
       "      <td>I97ZR9</td>\n",
       "      <td>Male</td>\n",
       "      <td>No</td>\n",
       "      <td>54.0</td>\n",
       "      <td>14.0</td>\n",
       "      <td>6.0</td>\n",
       "      <td>15.0</td>\n",
       "      <td>6.0</td>\n",
       "      <td>96.0</td>\n",
       "      <td>21:00</td>\n",
       "      <td>5:00</td>\n",
       "      <td>public transport</td>\n",
       "      <td>black</td>\n",
       "    </tr>\n",
       "    <tr>\n",
       "      <th>2264</th>\n",
       "      <td>1</td>\n",
       "      <td>No</td>\n",
       "      <td>Sports</td>\n",
       "      <td>Visual</td>\n",
       "      <td>WHO5I7</td>\n",
       "      <td>Female</td>\n",
       "      <td>No</td>\n",
       "      <td>58.0</td>\n",
       "      <td>8.0</td>\n",
       "      <td>23.0</td>\n",
       "      <td>16.0</td>\n",
       "      <td>9.0</td>\n",
       "      <td>97.0</td>\n",
       "      <td>21:00</td>\n",
       "      <td>5:00</td>\n",
       "      <td>public transport</td>\n",
       "      <td>red</td>\n",
       "    </tr>\n",
       "    <tr>\n",
       "      <th>3240</th>\n",
       "      <td>1</td>\n",
       "      <td>No</td>\n",
       "      <td>None</td>\n",
       "      <td>Visual</td>\n",
       "      <td>RHRN1M</td>\n",
       "      <td>Male</td>\n",
       "      <td>Y</td>\n",
       "      <td>63.0</td>\n",
       "      <td>12.0</td>\n",
       "      <td>16.0</td>\n",
       "      <td>15.0</td>\n",
       "      <td>14.0</td>\n",
       "      <td>98.0</td>\n",
       "      <td>23:00</td>\n",
       "      <td>7:00</td>\n",
       "      <td>walk</td>\n",
       "      <td>blue</td>\n",
       "    </tr>\n",
       "    <tr>\n",
       "      <th>...</th>\n",
       "      <td>...</td>\n",
       "      <td>...</td>\n",
       "      <td>...</td>\n",
       "      <td>...</td>\n",
       "      <td>...</td>\n",
       "      <td>...</td>\n",
       "      <td>...</td>\n",
       "      <td>...</td>\n",
       "      <td>...</td>\n",
       "      <td>...</td>\n",
       "      <td>...</td>\n",
       "      <td>...</td>\n",
       "      <td>...</td>\n",
       "      <td>...</td>\n",
       "      <td>...</td>\n",
       "      <td>...</td>\n",
       "      <td>...</td>\n",
       "    </tr>\n",
       "    <tr>\n",
       "      <th>15539</th>\n",
       "      <td>1</td>\n",
       "      <td>Yes</td>\n",
       "      <td>None</td>\n",
       "      <td>Auditory</td>\n",
       "      <td>903WGD</td>\n",
       "      <td>Male</td>\n",
       "      <td>No</td>\n",
       "      <td>76.0</td>\n",
       "      <td>11.0</td>\n",
       "      <td>6.0</td>\n",
       "      <td>16.0</td>\n",
       "      <td>3.0</td>\n",
       "      <td>93.0</td>\n",
       "      <td>22:30</td>\n",
       "      <td>6:30</td>\n",
       "      <td>private transport</td>\n",
       "      <td>black</td>\n",
       "    </tr>\n",
       "    <tr>\n",
       "      <th>15575</th>\n",
       "      <td>1</td>\n",
       "      <td>No</td>\n",
       "      <td>Sports</td>\n",
       "      <td>Visual</td>\n",
       "      <td>C6M33N</td>\n",
       "      <td>Female</td>\n",
       "      <td>No</td>\n",
       "      <td>49.0</td>\n",
       "      <td>16.0</td>\n",
       "      <td>14.0</td>\n",
       "      <td>15.0</td>\n",
       "      <td>5.0</td>\n",
       "      <td>87.0</td>\n",
       "      <td>21:30</td>\n",
       "      <td>5:30</td>\n",
       "      <td>public transport</td>\n",
       "      <td>red</td>\n",
       "    </tr>\n",
       "    <tr>\n",
       "      <th>15637</th>\n",
       "      <td>1</td>\n",
       "      <td>Yes</td>\n",
       "      <td>CLUBS</td>\n",
       "      <td>Auditory</td>\n",
       "      <td>WN3084</td>\n",
       "      <td>Female</td>\n",
       "      <td>Yes</td>\n",
       "      <td>54.0</td>\n",
       "      <td>24.0</td>\n",
       "      <td>1.0</td>\n",
       "      <td>16.0</td>\n",
       "      <td>5.0</td>\n",
       "      <td>93.0</td>\n",
       "      <td>22:00</td>\n",
       "      <td>6:00</td>\n",
       "      <td>private transport</td>\n",
       "      <td>blue</td>\n",
       "    </tr>\n",
       "    <tr>\n",
       "      <th>15651</th>\n",
       "      <td>1</td>\n",
       "      <td>No</td>\n",
       "      <td>Sports</td>\n",
       "      <td>Auditory</td>\n",
       "      <td>DG1LIU</td>\n",
       "      <td>Female</td>\n",
       "      <td>Yes</td>\n",
       "      <td>54.0</td>\n",
       "      <td>14.0</td>\n",
       "      <td>10.0</td>\n",
       "      <td>15.0</td>\n",
       "      <td>15.0</td>\n",
       "      <td>97.0</td>\n",
       "      <td>21:30</td>\n",
       "      <td>5:30</td>\n",
       "      <td>public transport</td>\n",
       "      <td>white</td>\n",
       "    </tr>\n",
       "    <tr>\n",
       "      <th>15875</th>\n",
       "      <td>0</td>\n",
       "      <td>No</td>\n",
       "      <td>Clubs</td>\n",
       "      <td>Auditory</td>\n",
       "      <td>MCO9BB</td>\n",
       "      <td>Female</td>\n",
       "      <td>Yes</td>\n",
       "      <td>68.0</td>\n",
       "      <td>17.0</td>\n",
       "      <td>4.0</td>\n",
       "      <td>16.0</td>\n",
       "      <td>13.0</td>\n",
       "      <td>99.0</td>\n",
       "      <td>22:00</td>\n",
       "      <td>6:00</td>\n",
       "      <td>private transport</td>\n",
       "      <td>red</td>\n",
       "    </tr>\n",
       "  </tbody>\n",
       "</table>\n",
       "<p>138 rows × 17 columns</p>\n",
       "</div>"
      ],
      "text/plain": [
       "       number_of_siblings direct_admission     CCA learning_style student_id  \\\n",
       "1532                    1               No  Sports       Auditory     1R0VBB   \n",
       "1770                    2               No  Sports       Auditory     D4KBX7   \n",
       "2098                    2               No  Sports       Auditory     I97ZR9   \n",
       "2264                    1               No  Sports         Visual     WHO5I7   \n",
       "3240                    1               No    None         Visual     RHRN1M   \n",
       "...                   ...              ...     ...            ...        ...   \n",
       "15539                   1              Yes    None       Auditory     903WGD   \n",
       "15575                   1               No  Sports         Visual     C6M33N   \n",
       "15637                   1              Yes   CLUBS       Auditory     WN3084   \n",
       "15651                   1               No  Sports       Auditory     DG1LIU   \n",
       "15875                   0               No   Clubs       Auditory     MCO9BB   \n",
       "\n",
       "       gender tuition  final_test  n_male  n_female   age  hours_per_week  \\\n",
       "1532   Female     Yes        67.0    12.0      16.0  15.0             8.0   \n",
       "1770     Male     Yes        56.0    11.0       7.0  16.0            15.0   \n",
       "2098     Male      No        54.0    14.0       6.0  15.0             6.0   \n",
       "2264   Female      No        58.0     8.0      23.0  16.0             9.0   \n",
       "3240     Male       Y        63.0    12.0      16.0  15.0            14.0   \n",
       "...       ...     ...         ...     ...       ...   ...             ...   \n",
       "15539    Male      No        76.0    11.0       6.0  16.0             3.0   \n",
       "15575  Female      No        49.0    16.0      14.0  15.0             5.0   \n",
       "15637  Female     Yes        54.0    24.0       1.0  16.0             5.0   \n",
       "15651  Female     Yes        54.0    14.0      10.0  15.0            15.0   \n",
       "15875  Female     Yes        68.0    17.0       4.0  16.0            13.0   \n",
       "\n",
       "       attendance_rate sleep_time wake_time  mode_of_transport bag_color  \n",
       "1532              99.0      21:30      5:30   public transport       red  \n",
       "1770              94.0      22:30      6:30  private transport     green  \n",
       "2098              96.0      21:00      5:00   public transport     black  \n",
       "2264              97.0      21:00      5:00   public transport       red  \n",
       "3240              98.0      23:00      7:00               walk      blue  \n",
       "...                ...        ...       ...                ...       ...  \n",
       "15539             93.0      22:30      6:30  private transport     black  \n",
       "15575             87.0      21:30      5:30   public transport       red  \n",
       "15637             93.0      22:00      6:00  private transport      blue  \n",
       "15651             97.0      21:30      5:30   public transport     white  \n",
       "15875             99.0      22:00      6:00  private transport       red  \n",
       "\n",
       "[138 rows x 17 columns]"
      ]
     },
     "execution_count": 235,
     "metadata": {},
     "output_type": "execute_result"
    }
   ],
   "source": [
    "#Check for duplicates\n",
    "df[df.duplicated(keep = 'first')]"
   ]
  },
  {
   "cell_type": "markdown",
   "metadata": {},
   "source": [
    "No duplicate rows found"
   ]
  },
  {
   "cell_type": "markdown",
   "metadata": {},
   "source": [
    "Now let's calculate the duration of sleep from sleep time and wake time"
   ]
  },
  {
   "cell_type": "code",
   "execution_count": 236,
   "metadata": {},
   "outputs": [],
   "source": [
    "df['sleep_time'] = pd.to_datetime(df['sleep_time'],format = '%H:%M')\n",
    "df['wake_time'] = pd.to_datetime(df['wake_time'],format = '%H:%M')\n",
    "dur_sleep = df['wake_time'] - df['sleep_time']\n",
    "\n",
    "hours = dur_sleep.dt.components.hours\n",
    "mins = dur_sleep.dt.components.minutes\n",
    "\n",
    "df['dur_sleep'] = hours + mins/60\n",
    "df['dur_sleep'].unique() #checking if the data looks right\n",
    "\n",
    "df.drop(columns = ['sleep_time','wake_time'], inplace = True)\n"
   ]
  },
  {
   "cell_type": "markdown",
   "metadata": {},
   "source": [
    "Now let's create a new column for number of classmates of the opposite gender"
   ]
  },
  {
   "cell_type": "code",
   "execution_count": 237,
   "metadata": {},
   "outputs": [
    {
     "data": {
      "text/html": [
       "<div>\n",
       "<style scoped>\n",
       "    .dataframe tbody tr th:only-of-type {\n",
       "        vertical-align: middle;\n",
       "    }\n",
       "\n",
       "    .dataframe tbody tr th {\n",
       "        vertical-align: top;\n",
       "    }\n",
       "\n",
       "    .dataframe thead th {\n",
       "        text-align: right;\n",
       "    }\n",
       "</style>\n",
       "<table border=\"1\" class=\"dataframe\">\n",
       "  <thead>\n",
       "    <tr style=\"text-align: right;\">\n",
       "      <th></th>\n",
       "      <th>number_of_siblings</th>\n",
       "      <th>direct_admission</th>\n",
       "      <th>CCA</th>\n",
       "      <th>learning_style</th>\n",
       "      <th>student_id</th>\n",
       "      <th>gender</th>\n",
       "      <th>tuition</th>\n",
       "      <th>final_test</th>\n",
       "      <th>n_male</th>\n",
       "      <th>n_female</th>\n",
       "      <th>age</th>\n",
       "      <th>hours_per_week</th>\n",
       "      <th>attendance_rate</th>\n",
       "      <th>mode_of_transport</th>\n",
       "      <th>bag_color</th>\n",
       "      <th>dur_sleep</th>\n",
       "      <th>n_oppgender</th>\n",
       "    </tr>\n",
       "  </thead>\n",
       "  <tbody>\n",
       "    <tr>\n",
       "      <th>0</th>\n",
       "      <td>0</td>\n",
       "      <td>Yes</td>\n",
       "      <td>Sports</td>\n",
       "      <td>Visual</td>\n",
       "      <td>ACN2BE</td>\n",
       "      <td>Female</td>\n",
       "      <td>No</td>\n",
       "      <td>69.0</td>\n",
       "      <td>14.0</td>\n",
       "      <td>2.0</td>\n",
       "      <td>16.0</td>\n",
       "      <td>10.0</td>\n",
       "      <td>91.0</td>\n",
       "      <td>private transport</td>\n",
       "      <td>yellow</td>\n",
       "      <td>8.0</td>\n",
       "      <td>14.0</td>\n",
       "    </tr>\n",
       "    <tr>\n",
       "      <th>1</th>\n",
       "      <td>2</td>\n",
       "      <td>No</td>\n",
       "      <td>Sports</td>\n",
       "      <td>Auditory</td>\n",
       "      <td>FGXIIZ</td>\n",
       "      <td>Female</td>\n",
       "      <td>No</td>\n",
       "      <td>47.0</td>\n",
       "      <td>4.0</td>\n",
       "      <td>19.0</td>\n",
       "      <td>16.0</td>\n",
       "      <td>7.0</td>\n",
       "      <td>94.0</td>\n",
       "      <td>private transport</td>\n",
       "      <td>green</td>\n",
       "      <td>8.0</td>\n",
       "      <td>4.0</td>\n",
       "    </tr>\n",
       "    <tr>\n",
       "      <th>2</th>\n",
       "      <td>0</td>\n",
       "      <td>Yes</td>\n",
       "      <td>None</td>\n",
       "      <td>Visual</td>\n",
       "      <td>B9AI9F</td>\n",
       "      <td>Male</td>\n",
       "      <td>No</td>\n",
       "      <td>85.0</td>\n",
       "      <td>14.0</td>\n",
       "      <td>2.0</td>\n",
       "      <td>15.0</td>\n",
       "      <td>8.0</td>\n",
       "      <td>92.0</td>\n",
       "      <td>private transport</td>\n",
       "      <td>white</td>\n",
       "      <td>8.0</td>\n",
       "      <td>2.0</td>\n",
       "    </tr>\n",
       "    <tr>\n",
       "      <th>4</th>\n",
       "      <td>0</td>\n",
       "      <td>No</td>\n",
       "      <td>Sports</td>\n",
       "      <td>Auditory</td>\n",
       "      <td>AXZN2E</td>\n",
       "      <td>Male</td>\n",
       "      <td>No</td>\n",
       "      <td>66.0</td>\n",
       "      <td>24.0</td>\n",
       "      <td>3.0</td>\n",
       "      <td>16.0</td>\n",
       "      <td>7.0</td>\n",
       "      <td>95.0</td>\n",
       "      <td>public transport</td>\n",
       "      <td>yellow</td>\n",
       "      <td>8.0</td>\n",
       "      <td>3.0</td>\n",
       "    </tr>\n",
       "    <tr>\n",
       "      <th>5</th>\n",
       "      <td>0</td>\n",
       "      <td>No</td>\n",
       "      <td>Arts</td>\n",
       "      <td>Visual</td>\n",
       "      <td>BA6R14</td>\n",
       "      <td>Female</td>\n",
       "      <td>No</td>\n",
       "      <td>57.0</td>\n",
       "      <td>9.0</td>\n",
       "      <td>12.0</td>\n",
       "      <td>15.0</td>\n",
       "      <td>11.0</td>\n",
       "      <td>96.0</td>\n",
       "      <td>private transport</td>\n",
       "      <td>red</td>\n",
       "      <td>8.0</td>\n",
       "      <td>9.0</td>\n",
       "    </tr>\n",
       "  </tbody>\n",
       "</table>\n",
       "</div>"
      ],
      "text/plain": [
       "   number_of_siblings direct_admission     CCA learning_style student_id  \\\n",
       "0                   0              Yes  Sports         Visual     ACN2BE   \n",
       "1                   2               No  Sports       Auditory     FGXIIZ   \n",
       "2                   0              Yes    None         Visual     B9AI9F   \n",
       "4                   0               No  Sports       Auditory     AXZN2E   \n",
       "5                   0               No    Arts         Visual     BA6R14   \n",
       "\n",
       "   gender tuition  final_test  n_male  n_female   age  hours_per_week  \\\n",
       "0  Female      No        69.0    14.0       2.0  16.0            10.0   \n",
       "1  Female      No        47.0     4.0      19.0  16.0             7.0   \n",
       "2    Male      No        85.0    14.0       2.0  15.0             8.0   \n",
       "4    Male      No        66.0    24.0       3.0  16.0             7.0   \n",
       "5  Female      No        57.0     9.0      12.0  15.0            11.0   \n",
       "\n",
       "   attendance_rate  mode_of_transport bag_color  dur_sleep  n_oppgender  \n",
       "0             91.0  private transport    yellow        8.0         14.0  \n",
       "1             94.0  private transport     green        8.0          4.0  \n",
       "2             92.0  private transport     white        8.0          2.0  \n",
       "4             95.0   public transport    yellow        8.0          3.0  \n",
       "5             96.0  private transport       red        8.0          9.0  "
      ]
     },
     "execution_count": 237,
     "metadata": {},
     "output_type": "execute_result"
    }
   ],
   "source": [
    "df['n_oppgender'] = np.where(df['gender'] == 'Female', df['n_male'], df['n_female'])\n",
    "df.head()"
   ]
  },
  {
   "cell_type": "code",
   "execution_count": 238,
   "metadata": {},
   "outputs": [],
   "source": [
    "#Looks like the transcribing is correct, let's remove the n_male and n_female columns\n",
    "df.drop(columns = ['n_male','n_female'], inplace = True)"
   ]
  },
  {
   "cell_type": "markdown",
   "metadata": {},
   "source": [
    "Now we will explore the distribution of the dependent variable"
   ]
  },
  {
   "cell_type": "code",
   "execution_count": 239,
   "metadata": {},
   "outputs": [
    {
     "data": {
      "text/plain": [
       "<Figure size 600x300 with 0 Axes>"
      ]
     },
     "metadata": {},
     "output_type": "display_data"
    },
    {
     "data": {
      "image/png": "[encoded data removed]",
      "text/plain": [
       "<Figure size 500x500 with 1 Axes>"
      ]
     },
     "metadata": {},
     "output_type": "display_data"
    }
   ],
   "source": [
    "plt.figure(figsize=(6,3))\n",
    "sns.displot(df.final_test,color='r', kde = True)\n",
    "plt.title('Test Scores Distribution',size=18)\n",
    "plt.xlabel('Test Scores',size=14)\n",
    "plt.ylabel('Density',size=14)\n",
    "plt.show()"
   ]
  },
  {
   "cell_type": "markdown",
   "metadata": {},
   "source": [
    "Now we will explore pairplots of the numerical values"
   ]
  },
  {
   "cell_type": "code",
   "execution_count": 240,
   "metadata": {},
   "outputs": [
    {
     "data": {
      "text/plain": [
       "Index(['number_of_siblings', 'final_test', 'age', 'hours_per_week',\n",
       "       'attendance_rate', 'dur_sleep', 'n_oppgender'],\n",
       "      dtype='object')"
      ]
     },
     "execution_count": 240,
     "metadata": {},
     "output_type": "execute_result"
    }
   ],
   "source": [
    "df.describe().columns"
   ]
  },
  {
   "cell_type": "code",
   "execution_count": 241,
   "metadata": {},
   "outputs": [
    {
     "data": {
      "image/png": "[encoded data removed]",
      "text/plain": [
       "<Figure size 1500x250 with 6 Axes>"
      ]
     },
     "metadata": {},
     "output_type": "display_data"
    }
   ],
   "source": [
    "#less the index column\n",
    "sns.set_palette(\"pastel\")\n",
    "sns.pairplot(df, \n",
    "                 y_vars = ['final_test'],\n",
    "                 x_vars = ['number_of_siblings','n_oppgender','age', 'hours_per_week', 'attendance_rate','dur_sleep'],\n",
    "                 markers=\"+\",\n",
    "                 diag_kind=\"kde\",\n",
    "                 kind='reg',\n",
    "                 plot_kws={'line_kws':{'color':'red'}, \n",
    "                           'scatter_kws': {'alpha': 0.7}},\n",
    "                );"
   ]
  },
  {
   "cell_type": "markdown",
   "metadata": {},
   "source": [
    "At first impressions, it seems like there are relationships between final test scores with:\n",
    "1. Number of siblings (inverse relationship)\n",
    "2. Number of classmates of the opposite gender (inverse relationship)\n",
    "3. Number of hours spent studying per week\n",
    "4. The attendance rate\n",
    "5. Duration of sleep"
   ]
  },
  {
   "cell_type": "code",
   "execution_count": 242,
   "metadata": {},
   "outputs": [
    {
     "data": {
      "text/plain": [
       "[0, 8, 9, 10, 13, 14]"
      ]
     },
     "execution_count": 242,
     "metadata": {},
     "output_type": "execute_result"
    }
   ],
   "source": [
    "#Obtain the indexes of the numeric columns\n",
    "x_vars = ['number_of_siblings','age', 'hours_per_week', 'attendance_rate','dur_sleep','n_oppgender']\n",
    "numeric_columns = [i for i,x in enumerate(df.columns) if x in set(x_vars)]\n",
    "numeric_columns"
   ]
  },
  {
   "cell_type": "code",
   "execution_count": 243,
   "metadata": {},
   "outputs": [
    {
     "data": {
      "image/png": "[encoded data removed]",
      "text/plain": [
       "<Figure size 1000x600 with 2 Axes>"
      ]
     },
     "metadata": {},
     "output_type": "display_data"
    }
   ],
   "source": [
    "#Plot the correlation heatmap\n",
    "plt.figure(figsize = (10,6))\n",
    "sns.heatmap(df.iloc[:,numeric_columns].corr(),annot=True,square=True,\n",
    "            cmap='RdBu',\n",
    "            vmax=1,\n",
    "            vmin=-1)\n",
    "plt.title('Correlations Between Variables',size=18);\n",
    "plt.xticks(size=13)\n",
    "plt.yticks(size=13)\n",
    "plt.show()"
   ]
  },
  {
   "cell_type": "markdown",
   "metadata": {},
   "source": [
    "Looks like there's high positive correlation between attendance rate and duration of sleep.\n",
    "\n",
    "Let's drop duration of sleep and use attendance rate as a predictor."
   ]
  },
  {
   "cell_type": "code",
   "execution_count": 244,
   "metadata": {},
   "outputs": [],
   "source": [
    "df.drop(columns = ['dur_sleep'], inplace = True)"
   ]
  },
  {
   "cell_type": "code",
   "execution_count": 245,
   "metadata": {},
   "outputs": [
    {
     "data": {
      "text/html": [
       "<div>\n",
       "<style scoped>\n",
       "    .dataframe tbody tr th:only-of-type {\n",
       "        vertical-align: middle;\n",
       "    }\n",
       "\n",
       "    .dataframe tbody tr th {\n",
       "        vertical-align: top;\n",
       "    }\n",
       "\n",
       "    .dataframe thead th {\n",
       "        text-align: right;\n",
       "    }\n",
       "</style>\n",
       "<table border=\"1\" class=\"dataframe\">\n",
       "  <thead>\n",
       "    <tr style=\"text-align: right;\">\n",
       "      <th></th>\n",
       "      <th>number_of_siblings</th>\n",
       "      <th>direct_admission</th>\n",
       "      <th>CCA</th>\n",
       "      <th>learning_style</th>\n",
       "      <th>student_id</th>\n",
       "      <th>gender</th>\n",
       "      <th>tuition</th>\n",
       "      <th>final_test</th>\n",
       "      <th>age</th>\n",
       "      <th>hours_per_week</th>\n",
       "      <th>attendance_rate</th>\n",
       "      <th>mode_of_transport</th>\n",
       "      <th>bag_color</th>\n",
       "      <th>n_oppgender</th>\n",
       "    </tr>\n",
       "  </thead>\n",
       "  <tbody>\n",
       "    <tr>\n",
       "      <th>0</th>\n",
       "      <td>0</td>\n",
       "      <td>Yes</td>\n",
       "      <td>Sports</td>\n",
       "      <td>Visual</td>\n",
       "      <td>ACN2BE</td>\n",
       "      <td>Female</td>\n",
       "      <td>No</td>\n",
       "      <td>69.0</td>\n",
       "      <td>16.0</td>\n",
       "      <td>10.0</td>\n",
       "      <td>91.0</td>\n",
       "      <td>private transport</td>\n",
       "      <td>yellow</td>\n",
       "      <td>14.0</td>\n",
       "    </tr>\n",
       "    <tr>\n",
       "      <th>1</th>\n",
       "      <td>2</td>\n",
       "      <td>No</td>\n",
       "      <td>Sports</td>\n",
       "      <td>Auditory</td>\n",
       "      <td>FGXIIZ</td>\n",
       "      <td>Female</td>\n",
       "      <td>No</td>\n",
       "      <td>47.0</td>\n",
       "      <td>16.0</td>\n",
       "      <td>7.0</td>\n",
       "      <td>94.0</td>\n",
       "      <td>private transport</td>\n",
       "      <td>green</td>\n",
       "      <td>4.0</td>\n",
       "    </tr>\n",
       "    <tr>\n",
       "      <th>2</th>\n",
       "      <td>0</td>\n",
       "      <td>Yes</td>\n",
       "      <td>None</td>\n",
       "      <td>Visual</td>\n",
       "      <td>B9AI9F</td>\n",
       "      <td>Male</td>\n",
       "      <td>No</td>\n",
       "      <td>85.0</td>\n",
       "      <td>15.0</td>\n",
       "      <td>8.0</td>\n",
       "      <td>92.0</td>\n",
       "      <td>private transport</td>\n",
       "      <td>white</td>\n",
       "      <td>2.0</td>\n",
       "    </tr>\n",
       "    <tr>\n",
       "      <th>4</th>\n",
       "      <td>0</td>\n",
       "      <td>No</td>\n",
       "      <td>Sports</td>\n",
       "      <td>Auditory</td>\n",
       "      <td>AXZN2E</td>\n",
       "      <td>Male</td>\n",
       "      <td>No</td>\n",
       "      <td>66.0</td>\n",
       "      <td>16.0</td>\n",
       "      <td>7.0</td>\n",
       "      <td>95.0</td>\n",
       "      <td>public transport</td>\n",
       "      <td>yellow</td>\n",
       "      <td>3.0</td>\n",
       "    </tr>\n",
       "    <tr>\n",
       "      <th>5</th>\n",
       "      <td>0</td>\n",
       "      <td>No</td>\n",
       "      <td>Arts</td>\n",
       "      <td>Visual</td>\n",
       "      <td>BA6R14</td>\n",
       "      <td>Female</td>\n",
       "      <td>No</td>\n",
       "      <td>57.0</td>\n",
       "      <td>15.0</td>\n",
       "      <td>11.0</td>\n",
       "      <td>96.0</td>\n",
       "      <td>private transport</td>\n",
       "      <td>red</td>\n",
       "      <td>9.0</td>\n",
       "    </tr>\n",
       "  </tbody>\n",
       "</table>\n",
       "</div>"
      ],
      "text/plain": [
       "   number_of_siblings direct_admission     CCA learning_style student_id  \\\n",
       "0                   0              Yes  Sports         Visual     ACN2BE   \n",
       "1                   2               No  Sports       Auditory     FGXIIZ   \n",
       "2                   0              Yes    None         Visual     B9AI9F   \n",
       "4                   0               No  Sports       Auditory     AXZN2E   \n",
       "5                   0               No    Arts         Visual     BA6R14   \n",
       "\n",
       "   gender tuition  final_test   age  hours_per_week  attendance_rate  \\\n",
       "0  Female      No        69.0  16.0            10.0             91.0   \n",
       "1  Female      No        47.0  16.0             7.0             94.0   \n",
       "2    Male      No        85.0  15.0             8.0             92.0   \n",
       "4    Male      No        66.0  16.0             7.0             95.0   \n",
       "5  Female      No        57.0  15.0            11.0             96.0   \n",
       "\n",
       "   mode_of_transport bag_color  n_oppgender  \n",
       "0  private transport    yellow         14.0  \n",
       "1  private transport     green          4.0  \n",
       "2  private transport     white          2.0  \n",
       "4   public transport    yellow          3.0  \n",
       "5  private transport       red          9.0  "
      ]
     },
     "execution_count": 245,
     "metadata": {},
     "output_type": "execute_result"
    }
   ],
   "source": [
    "df.head()"
   ]
  },
  {
   "cell_type": "markdown",
   "metadata": {},
   "source": [
    "Now that the data is processed, we can start feeding the data into a few models and assess their performance"
   ]
  },
  {
   "cell_type": "code",
   "execution_count": 248,
   "metadata": {},
   "outputs": [],
   "source": [
    "dependent_col = ['final_test']\n",
    "independent_col = [x for x in set(df.columns) - set(dependent_col)]\n",
    "numeric_col = ['number_of_siblings','n_oppgender','age', 'hours_per_week', 'attendance_rate']"
   ]
  },
  {
   "cell_type": "code",
   "execution_count": 249,
   "metadata": {},
   "outputs": [],
   "source": [
    "# Settings Train / Test Split. \n",
    "from sklearn.model_selection import train_test_split\n",
    "\n",
    "# Splitting into Training and Holdout Test Sets\n",
    "# Ensure stratification for now. We will adjust the ratio only later if required.\n",
    "X_train, X_test, y_train, y_test = train_test_split(df[independent_col], df[dependent_col],\\\n",
    "                                                    stratify=df[dependent_col], test_size=0.2, random_state=88)\n",
    "\n",
    "# From Standard Scaler for Numerical Columns (when necessary) Eg. Logistic Regression\n",
    "from sklearn.preprocessing import StandardScaler\n",
    "from sklearn.compose import ColumnTransformer\n",
    "\n",
    "preprocessor = ColumnTransformer(\\\n",
    "    transformers=[('num', StandardScaler(), numeric_col)],\\\n",
    "    remainder='passthrough') # Pass through categorical features unchanged\n",
    "\n",
    "X_train_transformed = preprocessor.fit_transform(X_train)\n",
    "X_train_transformed_df = pd.DataFrame(X_train_transformed, columns=independent_col)\n",
    "X_test_transformed = preprocessor.fit_transform(X_test)\n",
    "X_test_transformed_df = pd.DataFrame(X_test_transformed, columns=independent_col)\n",
    "y_train_transformed = y_train.values.ravel()\n",
    "y_test_transformed = y_test.values.ravel()"
   ]
  },
  {
   "cell_type": "markdown",
   "metadata": {},
   "source": [
    "References:\n",
    "1. https://www.sqlitetutorial.net/sqlite-python/sqlite-python-select/\n",
    "2. https://medium.com/@ugursavci/complete-exploratory-data-analysis-using-python-9f685d67d1e4\n",
    "3. https://medium.com/@dilip.voleti/multicollinearity-in-machine-learning-26d652b183de\n",
    "4. https://medium.com/data-and-beyond/mastering-exploratory-data-analysis-eda-everything-you-need-to-know-7e3b48d63a95"
   ]
  }
 ],
 "metadata": {
  "kernelspec": {
   "display_name": "myenv",
   "language": "python",
   "name": "python3"
  },
  "language_info": {
   "codemirror_mode": {
    "name": "ipython",
    "version": 3
   },
   "file_extension": ".py",
   "mimetype": "text/x-python",
   "name": "python",
   "nbconvert_exporter": "python",
   "pygments_lexer": "ipython3",
   "version": "3.10.8"
  }
 },
 "nbformat": 4,
 "nbformat_minor": 2
}
