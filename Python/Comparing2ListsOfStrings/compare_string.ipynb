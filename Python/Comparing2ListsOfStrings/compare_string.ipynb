{
 "cells": [
  {
   "cell_type": "code",
   "execution_count": 35,
   "metadata": {},
   "outputs": [],
   "source": [
    "'''\n",
    "This project aims to differentiate between 2 lists of companies and extract the names of companies which are similar between them.\n",
    "The catch is that some of the names might be misspelled. \n",
    "Hence to determine whether the companies are considered similar we will:\n",
    "1) First extract the names which are exactly the same between the 2 lists\n",
    "2) Secondly, extract names which are substrings of a name in the other list\n",
    "3) Thirdly, calculate the Levenshtein distance function from the textdistance module and include the names if the similarity score >0.9 (arbitrary cut off)\n",
    "4) Lastly, check if there are names which are substrings of another found name within the same list. The reason this step is required is because the time required for Step 3 is large, hence once a match has been found, the loop moves on to the next name\n",
    "\n",
    "References:\n",
    "https://yassineelkhal.medium.com/the-complete-guide-to-string-similarity-algorithms-1290ad07c6b7\n",
    "https://www.geeksforgeeks.org/python-test-if-string-is-subset-of-another/\n",
    "'''"
   ]
  },
  {
   "cell_type": "code",
   "execution_count": null,
   "metadata": {},
   "outputs": [],
   "source": [
    "#import the necessary libraries\n",
    "import textdistance as td\n",
    "import pandas as pd"
   ]
  },
  {
   "cell_type": "code",
   "execution_count": 36,
   "metadata": {},
   "outputs": [
    {
     "data": {
      "text/html": [
       "<div>\n",
       "<style scoped>\n",
       "    .dataframe tbody tr th:only-of-type {\n",
       "        vertical-align: middle;\n",
       "    }\n",
       "\n",
       "    .dataframe tbody tr th {\n",
       "        vertical-align: top;\n",
       "    }\n",
       "\n",
       "    .dataframe thead th {\n",
       "        text-align: right;\n",
       "    }\n",
       "</style>\n",
       "<table border=\"1\" class=\"dataframe\">\n",
       "  <thead>\n",
       "    <tr style=\"text-align: right;\">\n",
       "      <th></th>\n",
       "      <th>Unnamed: 0</th>\n",
       "      <th>JM</th>\n",
       "      <th>Unnamed: 2</th>\n",
       "      <th>CSL</th>\n",
       "    </tr>\n",
       "  </thead>\n",
       "  <tbody>\n",
       "    <tr>\n",
       "      <th>0</th>\n",
       "      <td>NaN</td>\n",
       "      <td>NaN</td>\n",
       "      <td>NaN</td>\n",
       "      <td>NaN</td>\n",
       "    </tr>\n",
       "    <tr>\n",
       "      <th>1</th>\n",
       "      <td>1.0</td>\n",
       "      <td>100 Super Minimart</td>\n",
       "      <td>1.0</td>\n",
       "      <td>101 EXPRESSMART PTE LTD</td>\n",
       "    </tr>\n",
       "    <tr>\n",
       "      <th>2</th>\n",
       "      <td>2.0</td>\n",
       "      <td>13 Mart Pte Ltd</td>\n",
       "      <td>2.0</td>\n",
       "      <td>13MART PTE LTD</td>\n",
       "    </tr>\n",
       "    <tr>\n",
       "      <th>3</th>\n",
       "      <td>3.0</td>\n",
       "      <td>1588 LE Pte Ltd (New Econ)</td>\n",
       "      <td>3.0</td>\n",
       "      <td>1588 LE PTE LTD</td>\n",
       "    </tr>\n",
       "    <tr>\n",
       "      <th>4</th>\n",
       "      <td>4.0</td>\n",
       "      <td>199 Budget Shop</td>\n",
       "      <td>4.0</td>\n",
       "      <td>178 WANG TRADING</td>\n",
       "    </tr>\n",
       "  </tbody>\n",
       "</table>\n",
       "</div>"
      ],
      "text/plain": [
       "   Unnamed: 0                          JM  Unnamed: 2                      CSL\n",
       "0         NaN                         NaN         NaN                      NaN\n",
       "1         1.0          100 Super Minimart         1.0  101 EXPRESSMART PTE LTD\n",
       "2         2.0             13 Mart Pte Ltd         2.0           13MART PTE LTD\n",
       "3         3.0  1588 LE Pte Ltd (New Econ)         3.0          1588 LE PTE LTD\n",
       "4         4.0             199 Budget Shop         4.0        178 WANG TRADING "
      ]
     },
     "execution_count": 36,
     "metadata": {},
     "output_type": "execute_result"
    }
   ],
   "source": [
    "#Then we read in the data into a pandas dataframe\n",
    "df = pd.read_csv('raw.csv')\n",
    "df.head()"
   ]
  },
  {
   "cell_type": "markdown",
   "metadata": {},
   "source": [
    "The columns we require are in the JM and CSL columns"
   ]
  },
  {
   "cell_type": "code",
   "execution_count": 37,
   "metadata": {},
   "outputs": [
    {
     "data": {
      "text/plain": [
       "(1815,)"
      ]
     },
     "execution_count": 37,
     "metadata": {},
     "output_type": "execute_result"
    }
   ],
   "source": [
    "#Cleaning the data by removing null values in the column and changing the strings to lowercase\n",
    "jm = df.JM\n",
    "jm.dropna(inplace = True)\n",
    "jm = jm.str.lower()\n",
    "jm.shape"
   ]
  },
  {
   "cell_type": "code",
   "execution_count": 38,
   "metadata": {},
   "outputs": [
    {
     "data": {
      "text/plain": [
       "1            100 super minimart\n",
       "2               13 mart pte ltd\n",
       "3    1588 le pte ltd (new econ)\n",
       "4               199 budget shop\n",
       "5             21 beyond pte ltd\n",
       "Name: JM, dtype: object"
      ]
     },
     "execution_count": 38,
     "metadata": {},
     "output_type": "execute_result"
    }
   ],
   "source": [
    "jm.head()"
   ]
  },
  {
   "cell_type": "code",
   "execution_count": 39,
   "metadata": {},
   "outputs": [
    {
     "data": {
      "text/plain": [
       "(930,)"
      ]
     },
     "execution_count": 39,
     "metadata": {},
     "output_type": "execute_result"
    }
   ],
   "source": [
    "#Cleaning the data by removing null values in the column and changing the strings to lowercase\n",
    "csl = df.CSL\n",
    "csl.dropna(inplace = True)\n",
    "csl = csl.str.lower()\n",
    "csl.shape"
   ]
  },
  {
   "cell_type": "code",
   "execution_count": 40,
   "metadata": {},
   "outputs": [
    {
     "data": {
      "text/plain": [
       "1    101 expressmart pte ltd\n",
       "2             13mart pte ltd\n",
       "3            1588 le pte ltd\n",
       "4          178 wang trading \n",
       "5            199 budget shop\n",
       "Name: CSL, dtype: object"
      ]
     },
     "execution_count": 40,
     "metadata": {},
     "output_type": "execute_result"
    }
   ],
   "source": [
    "csl.head()"
   ]
  },
  {
   "cell_type": "code",
   "execution_count": 41,
   "metadata": {},
   "outputs": [],
   "source": [
    "#First we extract the names which are similar between both lists\n",
    "j = set(jm)\n",
    "c = set(csl)\n",
    "s = j&c\n"
   ]
  },
  {
   "cell_type": "code",
   "execution_count": 42,
   "metadata": {},
   "outputs": [],
   "source": [
    "#If one is a substring of another, we will include it \n",
    "sj = j-s\n",
    "sc = c-s\n",
    "\n",
    "d = dict()\n",
    "\n",
    "for a in sc:\n",
    "    for b in sj:\n",
    "        if a in d.keys():\n",
    "            break\n",
    "        else:\n",
    "            if a in b or b in a: #We consider them to be similar if one string is a subset of the other\n",
    "                d[a] = b"
   ]
  },
  {
   "cell_type": "code",
   "execution_count": 43,
   "metadata": {},
   "outputs": [],
   "source": [
    "#Then we can use the textdistance module to determine if 2 names are similar to each other\n",
    "\n",
    "sjd = sj-set(d.values())\n",
    "scd = sc-set(d.keys())\n",
    "\n",
    "for a in scd:\n",
    "    for b in sjd:\n",
    "        if a in d.keys():\n",
    "            break\n",
    "        else:\n",
    "            if td.levenshtein.normalized_similarity(a,b) > 0.9: #We consider them to be similar if the similarity score is >0.9 (arbitrary cut-off)\n",
    "                d[a] = b\n",
    "\n"
   ]
  },
  {
   "cell_type": "code",
   "execution_count": 46,
   "metadata": {},
   "outputs": [],
   "source": [
    "#Combine the names which have been found\n",
    "\n",
    "df1 = pd.DataFrame.from_dict( {'CSL':d.keys(),'JM':d.values()})\n",
    "\n",
    "df2 = pd.DataFrame.from_dict( {'CSL':[x for x in s],'JM':[x for x in s]})\n",
    "\n",
    "fdf = pd.concat([df2,df1]).reset_index(drop=True)\n"
   ]
  },
  {
   "cell_type": "code",
   "execution_count": 47,
   "metadata": {},
   "outputs": [],
   "source": [
    "#We can then find if there are names which are substrings of another found name within the same list\n",
    "\n",
    "remaining_jm = sjd-set(d.values())\n",
    "remaining_csl = scd-set(d.keys())\n",
    "\n",
    "rj = set()\n",
    "rc = set()\n",
    "\n",
    "for a in remaining_jm:\n",
    "    if fdf.JM.str.contains(a,regex = False).sum() > 0:\n",
    "        rj.add(a)\n",
    "\n",
    "for a in remaining_csl:\n",
    "    if fdf.CSL.str.contains(a,regex = False).sum() > 0:\n",
    "        rc.add(a)\n",
    "\n",
    "df_rj = pd.DataFrame.from_dict( {'JM':[x for x in rj]})\n",
    "df_rc = pd.DataFrame.from_dict( {'CSL':[x for x in rc]})\n",
    "\n",
    "rdf = pd.concat([df_rj,df_rc], axis = 1).reset_index(drop = True)\n"
   ]
  },
  {
   "cell_type": "code",
   "execution_count": 48,
   "metadata": {},
   "outputs": [],
   "source": [
    "#Add these into the names which have been found\n",
    "fdf = pd.concat([fdf,rdf]).reset_index(drop=True)"
   ]
  },
  {
   "cell_type": "code",
   "execution_count": 50,
   "metadata": {},
   "outputs": [
    {
     "data": {
      "text/html": [
       "<div>\n",
       "<style scoped>\n",
       "    .dataframe tbody tr th:only-of-type {\n",
       "        vertical-align: middle;\n",
       "    }\n",
       "\n",
       "    .dataframe tbody tr th {\n",
       "        vertical-align: top;\n",
       "    }\n",
       "\n",
       "    .dataframe thead th {\n",
       "        text-align: right;\n",
       "    }\n",
       "</style>\n",
       "<table border=\"1\" class=\"dataframe\">\n",
       "  <thead>\n",
       "    <tr style=\"text-align: right;\">\n",
       "      <th></th>\n",
       "      <th>CSL_Not_Found</th>\n",
       "      <th>JM_Not_Found</th>\n",
       "    </tr>\n",
       "  </thead>\n",
       "  <tbody>\n",
       "    <tr>\n",
       "      <th>0</th>\n",
       "      <td>seng yong huat prov &amp; fruits shop</td>\n",
       "      <td>sri vinayaga trading</td>\n",
       "    </tr>\n",
       "    <tr>\n",
       "      <th>1</th>\n",
       "      <td>seven star minimart</td>\n",
       "      <td>jade minimart</td>\n",
       "    </tr>\n",
       "    <tr>\n",
       "      <th>2</th>\n",
       "      <td>l3 home-matters pte ltd</td>\n",
       "      <td>krish impex pte ltd</td>\n",
       "    </tr>\n",
       "    <tr>\n",
       "      <th>3</th>\n",
       "      <td>aik seng (s)trading</td>\n",
       "      <td>zafrah mini mart</td>\n",
       "    </tr>\n",
       "    <tr>\n",
       "      <th>4</th>\n",
       "      <td>zhen tat pte. ltd.</td>\n",
       "      <td>jsa trading pte ltd</td>\n",
       "    </tr>\n",
       "    <tr>\n",
       "      <th>...</th>\n",
       "      <td>...</td>\n",
       "      <td>...</td>\n",
       "    </tr>\n",
       "    <tr>\n",
       "      <th>1310</th>\n",
       "      <td>NaN</td>\n",
       "      <td>express avenue</td>\n",
       "    </tr>\n",
       "    <tr>\n",
       "      <th>1311</th>\n",
       "      <td>NaN</td>\n",
       "      <td>smart alliance</td>\n",
       "    </tr>\n",
       "    <tr>\n",
       "      <th>1312</th>\n",
       "      <td>NaN</td>\n",
       "      <td>eco family mart</td>\n",
       "    </tr>\n",
       "    <tr>\n",
       "      <th>1313</th>\n",
       "      <td>NaN</td>\n",
       "      <td>leo's minimart</td>\n",
       "    </tr>\n",
       "    <tr>\n",
       "      <th>1314</th>\n",
       "      <td>NaN</td>\n",
       "      <td>hao mart eccellente-6 raffles</td>\n",
       "    </tr>\n",
       "  </tbody>\n",
       "</table>\n",
       "<p>1315 rows × 2 columns</p>\n",
       "</div>"
      ],
      "text/plain": [
       "                          CSL_Not_Found                   JM_Not_Found\n",
       "0     seng yong huat prov & fruits shop           sri vinayaga trading\n",
       "1                   seven star minimart                  jade minimart\n",
       "2               l3 home-matters pte ltd            krish impex pte ltd\n",
       "3                   aik seng (s)trading               zafrah mini mart\n",
       "4                    zhen tat pte. ltd.            jsa trading pte ltd\n",
       "...                                 ...                            ...\n",
       "1310                                NaN                 express avenue\n",
       "1311                                NaN                 smart alliance\n",
       "1312                                NaN                eco family mart\n",
       "1313                                NaN                 leo's minimart\n",
       "1314                                NaN  hao mart eccellente-6 raffles\n",
       "\n",
       "[1315 rows x 2 columns]"
      ]
     },
     "execution_count": 50,
     "metadata": {},
     "output_type": "execute_result"
    }
   ],
   "source": [
    "#find the mismatches\n",
    "\n",
    "j_mm = j - set(fdf.JM)\n",
    "c_mm = c - set(fdf.CSL)\n",
    "\n",
    "df_jmm = pd.DataFrame.from_dict( {'JM_Not_Found':[x for x in j_mm]})\n",
    "df_cmm = pd.DataFrame.from_dict( {'CSL_Not_Found':[x for x in c_mm]})\n",
    "\n",
    "df_mm = pd.concat([df_cmm,df_jmm], axis = 1).reset_index(drop = True)\n",
    "\n",
    "df_mm"
   ]
  },
  {
   "cell_type": "code",
   "execution_count": 52,
   "metadata": {},
   "outputs": [],
   "source": [
    "#Combine the matched and mismatched and output as an excel file\n",
    "\n",
    "fdf = pd.concat([fdf,df_mm], axis = 1).reset_index(drop = True)\n",
    "\n",
    "fdf.to_excel(\"clean.xlsx\")  \n"
   ]
  }
 ],
 "metadata": {
  "kernelspec": {
   "display_name": "my-env",
   "language": "python",
   "name": "python3"
  },
  "language_info": {
   "codemirror_mode": {
    "name": "ipython",
    "version": 3
   },
   "file_extension": ".py",
   "mimetype": "text/x-python",
   "name": "python",
   "nbconvert_exporter": "python",
   "pygments_lexer": "ipython3",
   "version": "3.10.8"
  }
 },
 "nbformat": 4,
 "nbformat_minor": 2
}
